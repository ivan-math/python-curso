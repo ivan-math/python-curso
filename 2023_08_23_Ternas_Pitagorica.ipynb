{
  "nbformat": 4,
  "nbformat_minor": 0,
  "metadata": {
    "colab": {
      "provenance": [],
      "authorship_tag": "ABX9TyPOE7OoexX1kkNALPIMxWbR",
      "include_colab_link": true
    },
    "kernelspec": {
      "name": "python3",
      "display_name": "Python 3"
    },
    "language_info": {
      "name": "python"
    }
  },
  "cells": [
    {
      "cell_type": "markdown",
      "metadata": {
        "id": "view-in-github",
        "colab_type": "text"
      },
      "source": [
        "<a href=\"https://colab.research.google.com/github/ivan-math/python-curso/blob/main/2023_08_23_Ternas_Pitagorica.ipynb\" target=\"_parent\"><img src=\"https://colab.research.google.com/assets/colab-badge.svg\" alt=\"Open In Colab\"/></a>"
      ]
    },
    {
      "cell_type": "markdown",
      "source": [
        "##Ternas Pitagóricas\n",
        "##### Agosto 23, 2023\n"
      ],
      "metadata": {
        "id": "PcEl4hfPNmnd"
      }
    },
    {
      "cell_type": "markdown",
      "source": [
        "##Definición\n",
        "Una *`Terna Pitagorica`*, es el conjunto de tres numeros $(x,y,z) \\in ℕ$, tales que\n",
        "$x^2+y^2=z^2$"
      ],
      "metadata": {
        "id": "r2O_2dwuN63d"
      }
    },
    {
      "cell_type": "markdown",
      "source": [
        "###Problema:\n",
        "Clasificar todas las ternas pitagóricas $(x,y,z)$ tales que $x,y,z <100$"
      ],
      "metadata": {
        "id": "73T2IxgAPnZm"
      }
    },
    {
      "cell_type": "code",
      "source": [
        "ternas=[(x,y,z) for x in range(1,100) for y in range(x,100) for z in range(y,100) if x**2+y**2==z**2]\n",
        "ternas_pitagoricas=[(x,y,z) for (x,y,z) in ternas if x<y<z]\n",
        "ternas_pitagoricas"
      ],
      "metadata": {
        "colab": {
          "base_uri": "https://localhost:8080/"
        },
        "id": "wFBa1aCyZKup",
        "outputId": "36a994b9-71d8-4fc5-d9c8-4ab6bb02e05c"
      },
      "execution_count": 10,
      "outputs": [
        {
          "output_type": "execute_result",
          "data": {
            "text/plain": [
              "[(3, 4, 5),\n",
              " (5, 12, 13),\n",
              " (6, 8, 10),\n",
              " (7, 24, 25),\n",
              " (8, 15, 17),\n",
              " (9, 12, 15),\n",
              " (9, 40, 41),\n",
              " (10, 24, 26),\n",
              " (11, 60, 61),\n",
              " (12, 16, 20),\n",
              " (12, 35, 37),\n",
              " (13, 84, 85),\n",
              " (14, 48, 50),\n",
              " (15, 20, 25),\n",
              " (15, 36, 39),\n",
              " (16, 30, 34),\n",
              " (16, 63, 65),\n",
              " (18, 24, 30),\n",
              " (18, 80, 82),\n",
              " (20, 21, 29),\n",
              " (20, 48, 52),\n",
              " (21, 28, 35),\n",
              " (21, 72, 75),\n",
              " (24, 32, 40),\n",
              " (24, 45, 51),\n",
              " (24, 70, 74),\n",
              " (25, 60, 65),\n",
              " (27, 36, 45),\n",
              " (28, 45, 53),\n",
              " (30, 40, 50),\n",
              " (30, 72, 78),\n",
              " (32, 60, 68),\n",
              " (33, 44, 55),\n",
              " (33, 56, 65),\n",
              " (35, 84, 91),\n",
              " (36, 48, 60),\n",
              " (36, 77, 85),\n",
              " (39, 52, 65),\n",
              " (39, 80, 89),\n",
              " (40, 42, 58),\n",
              " (40, 75, 85),\n",
              " (42, 56, 70),\n",
              " (45, 60, 75),\n",
              " (48, 55, 73),\n",
              " (48, 64, 80),\n",
              " (51, 68, 85),\n",
              " (54, 72, 90),\n",
              " (57, 76, 95),\n",
              " (60, 63, 87),\n",
              " (65, 72, 97)]"
            ]
          },
          "metadata": {},
          "execution_count": 10
        }
      ]
    }
  ]
}