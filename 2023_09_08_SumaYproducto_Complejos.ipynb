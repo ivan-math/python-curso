{
  "nbformat": 4,
  "nbformat_minor": 0,
  "metadata": {
    "colab": {
      "provenance": [],
      "authorship_tag": "ABX9TyMUIamZ1p1+T8LfAxHfQMQg",
      "include_colab_link": true
    },
    "kernelspec": {
      "name": "python3",
      "display_name": "Python 3"
    },
    "language_info": {
      "name": "python"
    }
  },
  "cells": [
    {
      "cell_type": "markdown",
      "metadata": {
        "id": "view-in-github",
        "colab_type": "text"
      },
      "source": [
        "<a href=\"https://colab.research.google.com/github/ivan-math/python-curso/blob/main/2023_09_08_SumaYproducto_Complejos.ipynb\" target=\"_parent\"><img src=\"https://colab.research.google.com/assets/colab-badge.svg\" alt=\"Open In Colab\"/></a>"
      ]
    },
    {
      "cell_type": "markdown",
      "source": [
        "#Suma y producto de numeros complejos\n",
        "###2023, Septiembre 8\n"
      ],
      "metadata": {
        "id": "s6iwN2cxgYp3"
      }
    },
    {
      "cell_type": "markdown",
      "source": [
        "Implementacion de resta y multiplicacion de numeros complejos\n"
      ],
      "metadata": {
        "id": "DFLPW8xaRmu3"
      }
    },
    {
      "cell_type": "code",
      "source": [
        "class NúmeroComplejo:\n",
        "    def __init__(self, parte_real, parte_imaginaria):\n",
        "        self.r = parte_real\n",
        "        self.i = parte_imaginaria\n",
        "\n",
        "    def __repr__(self):\n",
        "        return f\"NúmeroComplejo({self.r},{self.i})\"\n",
        "\n",
        "    def __sub__(self,other):\n",
        "        return NúmeroComplejo(self.r - other.r, self.i - other.i)\n",
        "\n",
        "    def __mul__(self,other):\n",
        "        return NúmeroComplejo((self.r * other.r) - (self.i * other.i), (self.r*other.i) + (self.i * other.r))"
      ],
      "metadata": {
        "id": "_8QpMeuhSEgB"
      },
      "execution_count": 25,
      "outputs": []
    },
    {
      "cell_type": "code",
      "source": [
        "z = NúmeroComplejo(1, 6)\n",
        "w = NúmeroComplejo(2, -14)\n",
        "z-w, z*w"
      ],
      "metadata": {
        "colab": {
          "base_uri": "https://localhost:8080/"
        },
        "id": "tJzWXBrsaK6x",
        "outputId": "1f5062ea-37c2-42ee-c07f-d43ebf312749"
      },
      "execution_count": 27,
      "outputs": [
        {
          "output_type": "execute_result",
          "data": {
            "text/plain": [
              "(NúmeroComplejo(-1,20), NúmeroComplejo(86,-2))"
            ]
          },
          "metadata": {},
          "execution_count": 27
        }
      ]
    }
  ]
}