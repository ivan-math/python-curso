{
  "nbformat": 4,
  "nbformat_minor": 0,
  "metadata": {
    "colab": {
      "provenance": [],
      "authorship_tag": "ABX9TyNDWQqgNUNeERkaaJBrn+dg",
      "include_colab_link": true
    },
    "kernelspec": {
      "name": "python3",
      "display_name": "Python 3"
    },
    "language_info": {
      "name": "python"
    }
  },
  "cells": [
    {
      "cell_type": "markdown",
      "metadata": {
        "id": "view-in-github",
        "colab_type": "text"
      },
      "source": [
        "<a href=\"https://colab.research.google.com/github/ivan-math/python-curso/blob/main/Potencias_de_Fibonacci.ipynb\" target=\"_parent\"><img src=\"https://colab.research.google.com/assets/colab-badge.svg\" alt=\"Open In Colab\"/></a>"
      ]
    },
    {
      "cell_type": "markdown",
      "source": [
        "##Problemas\n",
        "#####Agosto 23, 2023\n",
        "Vamos a analizar el problema de saber cuántos y cuáles son los numeros de Fibbonaci tales que son cuadrados"
      ],
      "metadata": {
        "id": "vP2Hcd3PGnul"
      }
    },
    {
      "cell_type": "markdown",
      "source": [
        "Primero los que son $10^{20}$ cuadrados:"
      ],
      "metadata": {
        "id": "su0Qo6IbHkB_"
      }
    },
    {
      "cell_type": "code",
      "source": [
        "from sympy import *\n",
        "\n",
        "def es_potencia(n,pot):\n",
        "    return int(sqrt(n)) ** pot == n\n",
        "\n",
        "def cuadrados_fibonacci(n,pot):\n",
        "    fibs = []\n",
        "    a, b = 0, 1\n",
        "    while a < n:\n",
        "        if es_potencia(a,pot):\n",
        "            fibs.append(a)\n",
        "        a, b = b, a+b\n",
        "    return fibs\n",
        "\n",
        "cuadrados_fibonacci(10**20, 2)"
      ],
      "metadata": {
        "colab": {
          "base_uri": "https://localhost:8080/"
        },
        "id": "Vx6kZqN9Hib5",
        "outputId": "1916a359-3257-4a57-e8b5-58009649d2aa"
      },
      "execution_count": 1,
      "outputs": [
        {
          "output_type": "execute_result",
          "data": {
            "text/plain": [
              "[0, 1, 1, 144]"
            ]
          },
          "metadata": {},
          "execution_count": 1
        }
      ]
    },
    {
      "cell_type": "markdown",
      "source": [
        "Primero los que son $10^{20}$ cubos:"
      ],
      "metadata": {
        "id": "atPFojVVH4G4"
      }
    },
    {
      "cell_type": "code",
      "source": [
        "from sympy import *\n",
        "\n",
        "def es_potencia(n,pot):\n",
        "    return int(sqrt(n)) ** pot == n\n",
        "\n",
        "def cuadrados_fibonacci(n,pot):\n",
        "    fibs = []\n",
        "    a, b = 0, 1\n",
        "    while a < n:\n",
        "        if es_potencia(a,pot):\n",
        "            fibs.append(a)\n",
        "        a, b = b, a+b\n",
        "    return fibs\n",
        "\n",
        "cuadrados_fibonacci(10**20, 3)"
      ],
      "metadata": {
        "colab": {
          "base_uri": "https://localhost:8080/"
        },
        "id": "eM8mzpkRH9Bh",
        "outputId": "38a7c071-7905-4f8d-a02d-91a9fe91e787"
      },
      "execution_count": 4,
      "outputs": [
        {
          "output_type": "execute_result",
          "data": {
            "text/plain": [
              "[0, 1, 1, 8]"
            ]
          },
          "metadata": {},
          "execution_count": 4
        }
      ]
    },
    {
      "cell_type": "markdown",
      "source": [
        "Primero los que son $10^{20}$ cuartos:"
      ],
      "metadata": {
        "id": "GYbkSel5IAsu"
      }
    },
    {
      "cell_type": "code",
      "source": [
        "from sympy import *\n",
        "\n",
        "def es_potencia(n,pot):\n",
        "    return int(sqrt(n)) ** pot == n\n",
        "\n",
        "def cuadrados_fibonacci(n,pot):\n",
        "    fibs = []\n",
        "    a, b = 0, 1\n",
        "    while a < n:\n",
        "        if es_potencia(a,pot):\n",
        "            fibs.append(a)\n",
        "        a, b = b, a+b\n",
        "    return fibs\n",
        "\n",
        "cuadrados_fibonacci(10**20, 4)"
      ],
      "metadata": {
        "colab": {
          "base_uri": "https://localhost:8080/"
        },
        "id": "gb70QUEzIFBd",
        "outputId": "280c420f-8488-46e2-d007-777d04e3563a"
      },
      "execution_count": 5,
      "outputs": [
        {
          "output_type": "execute_result",
          "data": {
            "text/plain": [
              "[0, 1, 1]"
            ]
          },
          "metadata": {},
          "execution_count": 5
        }
      ]
    }
  ]
}