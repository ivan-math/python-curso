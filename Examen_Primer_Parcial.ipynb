{
  "nbformat": 4,
  "nbformat_minor": 0,
  "metadata": {
    "colab": {
      "provenance": [],
      "authorship_tag": "ABX9TyPO29lLhI7EgWnTag8ESL4k",
      "include_colab_link": true
    },
    "kernelspec": {
      "name": "python3",
      "display_name": "Python 3"
    },
    "language_info": {
      "name": "python"
    }
  },
  "cells": [
    {
      "cell_type": "markdown",
      "metadata": {
        "id": "view-in-github",
        "colab_type": "text"
      },
      "source": [
        "<a href=\"https://colab.research.google.com/github/ivan-math/python-curso/blob/main/Examen_Primer_Parcial.ipynb\" target=\"_parent\"><img src=\"https://colab.research.google.com/assets/colab-badge.svg\" alt=\"Open In Colab\"/></a>"
      ]
    },
    {
      "cell_type": "markdown",
      "source": [
        "#Primer examen parcial\n",
        "##Ivan Delgado Carmona"
      ],
      "metadata": {
        "id": "QrKj_-WCNFVw"
      }
    },
    {
      "cell_type": "markdown",
      "source": [
        "2. Dado un entero positivo n, determinar la lista de todos los números de Fibonacci menores que n que sean múltiplos de 5."
      ],
      "metadata": {
        "id": "xf__-vr1NO8Q"
      }
    },
    {
      "cell_type": "code",
      "source": [
        "from sympy import *\n",
        "\n",
        "def multiplos(n):\n",
        "    return [i for i in range(n+1) if i % 5 == 0]\n",
        "\n",
        "def numeros_fibonacci(n):\n",
        "    fibs = []\n",
        "    a, b = 0, 1\n",
        "    while a < n:\n",
        "        if multiplos(a):\n",
        "            fibs.append(a)\n",
        "        a, b = b, a + b\n",
        "    return fibs\n",
        "\n",
        "numeros_fibonacci(200)"
      ],
      "metadata": {
        "id": "d2CK_rWkNOG_"
      },
      "execution_count": null,
      "outputs": []
    },
    {
      "cell_type": "code",
      "source": [
        "25 % 5"
      ],
      "metadata": {
        "colab": {
          "base_uri": "https://localhost:8080/"
        },
        "id": "toGsv3A_P2y-",
        "outputId": "21c9d8c6-dd23-438a-8531-907222e63d71"
      },
      "execution_count": 15,
      "outputs": [
        {
          "output_type": "execute_result",
          "data": {
            "text/plain": [
              "0"
            ]
          },
          "metadata": {},
          "execution_count": 15
        }
      ]
    }
  ]
}