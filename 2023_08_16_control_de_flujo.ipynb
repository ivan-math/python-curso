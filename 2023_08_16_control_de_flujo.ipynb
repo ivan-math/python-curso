{
  "cells": [
    {
      "cell_type": "markdown",
      "metadata": {
        "id": "view-in-github",
        "colab_type": "text"
      },
      "source": [
        "<a href=\"https://colab.research.google.com/github/ivan-math/python-curso/blob/main/2023_08_16_control_de_flujo.ipynb\" target=\"_parent\"><img src=\"https://colab.research.google.com/assets/colab-badge.svg\" alt=\"Open In Colab\"/></a>"
      ]
    },
    {
      "cell_type": "markdown",
      "metadata": {
        "id": "xjaWOq3WBsuC"
      },
      "source": [
        "Control de flujo\n",
        "================\n",
        "\n",
        "**Date:** 2023-08-16\n",
        "\n"
      ]
    },
    {
      "cell_type": "markdown",
      "metadata": {
        "id": "8tvqcyc9BsuE"
      },
      "source": [
        "## Control de flujo\n",
        "\n"
      ]
    },
    {
      "cell_type": "markdown",
      "metadata": {
        "id": "NkV2Uv8wBsuF"
      },
      "source": [
        "### `if`\n",
        "\n"
      ]
    },
    {
      "cell_type": "code",
      "execution_count": 1,
      "metadata": {
        "colab": {
          "base_uri": "https://localhost:8080/"
        },
        "id": "X3OzHbz8BsuG",
        "outputId": "91a57b77-ad55-41d2-f5a8-a4e758d2408b"
      },
      "outputs": [
        {
          "output_type": "execute_result",
          "data": {
            "text/plain": [
              "['Sergio', 'Edgar', 'Maria', 'Ivan', 'Karem', 'Renata', 'Erick']"
            ]
          },
          "metadata": {},
          "execution_count": 1
        }
      ],
      "source": [
        "inscritos = [\"Sergio\", \"Edgar\", \"Maria\", \"Ivan\", \"Karem\"]\n",
        "oyentes = [\"Renata\", \"Erick\"]\n",
        "estudiantes = inscritos + oyentes\n",
        "estudiantes"
      ]
    },
    {
      "cell_type": "code",
      "execution_count": 10,
      "metadata": {
        "colab": {
          "base_uri": "https://localhost:8080/"
        },
        "id": "ClSBZrihBsuH",
        "outputId": "9537487b-3f59-4bda-eb0e-8c4cb3a7f9c2"
      },
      "outputs": [
        {
          "output_type": "stream",
          "name": "stdout",
          "text": [
            "Son muchos estudiantes\n"
          ]
        }
      ],
      "source": [
        "if len(estudiantes) > 5:\n",
        "    print(\"Son muchos estudiantes\")"
      ]
    },
    {
      "cell_type": "code",
      "execution_count": 12,
      "metadata": {
        "colab": {
          "base_uri": "https://localhost:8080/"
        },
        "id": "XwCMRcJqBsuH",
        "outputId": "071f64d8-3e1c-413a-ebd1-301779a1ba88"
      },
      "outputs": [
        {
          "output_type": "stream",
          "name": "stdout",
          "text": [
            "Son pocos estudiantes. Ojalá entren oyentes\n"
          ]
        }
      ],
      "source": [
        "if len(estudiantes) > 10:\n",
        "    print(\"Son muchos estudiantes\")\n",
        "else:\n",
        "    print(\"Son pocos estudiantes\", end=\". \")\n",
        "    print(\"Ojalá entren oyentes\")"
      ]
    },
    {
      "cell_type": "code",
      "execution_count": 18,
      "metadata": {
        "colab": {
          "base_uri": "https://localhost:8080/"
        },
        "id": "8SODJMgwBsuI",
        "outputId": "0b61e1f5-b519-4704-a731-4dbb450dca11"
      },
      "outputs": [
        {
          "output_type": "stream",
          "name": "stdout",
          "text": [
            "Son cuando mucho cinco estudiantes\n"
          ]
        }
      ],
      "source": [
        "if len(inscritos) <= 5:\n",
        "    print(\"Son cuando mucho cinco estudiantes\")\n",
        "elif len(inscritos) == 6:\n",
        "    print(\"Son seis estudiantes\")\n",
        "else:\n",
        "    print(\"Son muchos estudiantes\", end=\". \")\n",
        "    print(\"Ojalá no entren oyentes\")"
      ]
    },
    {
      "cell_type": "markdown",
      "metadata": {
        "id": "HD7VbEFaBsuI"
      },
      "source": [
        "### `for`\n",
        "\n"
      ]
    },
    {
      "cell_type": "code",
      "execution_count": 17,
      "metadata": {
        "colab": {
          "base_uri": "https://localhost:8080/"
        },
        "id": "E8whvc_sBsuJ",
        "outputId": "45d17071-e668-4a9b-a673-2f02f40a83e9"
      },
      "outputs": [
        {
          "output_type": "stream",
          "name": "stdout",
          "text": [
            "Hola Sergio ¿Cómo te va pa?\n",
            "Hola Edgar ¿Cómo te va pa?\n",
            "Hola Maria ¿Cómo te va pa?\n",
            "Hola Ivan ¿Cómo te va pa?\n",
            "Hola Karem ¿Cómo te va pa?\n",
            "Hola Renata ¿Cómo te va pa?\n",
            "Hola Erick ¿Cómo te va pa?\n"
          ]
        }
      ],
      "source": [
        "for estudiante in estudiantes:\n",
        "    print(\"Hola\", estudiante, \"¿Cómo te va pa?\")"
      ]
    },
    {
      "cell_type": "code",
      "execution_count": 19,
      "metadata": {
        "colab": {
          "base_uri": "https://localhost:8080/"
        },
        "id": "T2hauksoBsuK",
        "outputId": "52884653-a74e-4d04-bd0f-d6ff2d168377"
      },
      "outputs": [
        {
          "output_type": "stream",
          "name": "stdout",
          "text": [
            "Hola Sergio\n",
            "Hola Edgar\n",
            "Hola Maria\n",
            "Hola Ivan\n",
            "Hola Karem\n",
            "Hola Renata\n",
            "Hola Erick\n"
          ]
        }
      ],
      "source": [
        "for i in range(len(estudiantes)):\n",
        "    print(\"Hola\", estudiantes[i])"
      ]
    },
    {
      "cell_type": "code",
      "execution_count": 25,
      "metadata": {
        "colab": {
          "base_uri": "https://localhost:8080/"
        },
        "id": "ph5pBbR3BsuK",
        "outputId": "5838fcc1-3b56-4f52-a8ee-7cea831cbf74"
      },
      "outputs": [
        {
          "output_type": "stream",
          "name": "stdout",
          "text": [
            "6\n",
            "5\n",
            "4\n",
            "3\n",
            "2\n",
            "1\n",
            "0\n",
            "Booom!!!\n",
            "-1\n",
            "-2\n",
            "-3\n"
          ]
        }
      ],
      "source": [
        "for j in range(6, -4, -1):\n",
        "    print(j)\n",
        "    if j == 0:\n",
        "        print(\"Booom!!!\")"
      ]
    },
    {
      "cell_type": "markdown",
      "source": [
        "**NOTA:**\n",
        "range(a,b,c) toma los numeros del intervalo (a,b-1) con pasos de c por unidad"
      ],
      "metadata": {
        "id": "0-ZS0xPxHqMU"
      }
    },
    {
      "cell_type": "code",
      "source": [
        "list(range(5,-7,-1))"
      ],
      "metadata": {
        "colab": {
          "base_uri": "https://localhost:8080/"
        },
        "id": "l-DQbUwMHA26",
        "outputId": "6605d6cb-6771-4705-d4ce-8b70464652a8"
      },
      "execution_count": 34,
      "outputs": [
        {
          "output_type": "execute_result",
          "data": {
            "text/plain": [
              "[5, 4, 3, 2, 1, 0, -1, -2, -3, -4, -5, -6]"
            ]
          },
          "metadata": {},
          "execution_count": 34
        }
      ]
    },
    {
      "cell_type": "code",
      "execution_count": 26,
      "metadata": {
        "colab": {
          "base_uri": "https://localhost:8080/"
        },
        "id": "AUOfqnziBsuL",
        "outputId": "67371cda-b166-4fe5-988e-2f11d84d502d"
      },
      "outputs": [
        {
          "output_type": "execute_result",
          "data": {
            "text/plain": [
              "range(0, 7897987978979779878979797987987979779797979)"
            ]
          },
          "metadata": {},
          "execution_count": 26
        }
      ],
      "source": [
        "range(7897987978979779878979797987987979779797979)"
      ]
    },
    {
      "cell_type": "markdown",
      "metadata": {
        "id": "XOEUSIhfBsuL"
      },
      "source": [
        "La suma de todos los números del 1 al 100.\n",
        "\n"
      ]
    },
    {
      "cell_type": "code",
      "execution_count": 35,
      "metadata": {
        "colab": {
          "base_uri": "https://localhost:8080/"
        },
        "id": "PA8WKh2tBsuL",
        "outputId": "c1e67e34-91dc-45dc-d81a-3d33f0c1523c"
      },
      "outputs": [
        {
          "output_type": "execute_result",
          "data": {
            "text/plain": [
              "5050"
            ]
          },
          "metadata": {},
          "execution_count": 35
        }
      ],
      "source": [
        "sum(range(101))"
      ]
    },
    {
      "cell_type": "markdown",
      "metadata": {
        "id": "N9xFmwi6BsuL"
      },
      "source": [
        "### break, continue y else en ciclos for\n",
        "\n"
      ]
    },
    {
      "cell_type": "markdown",
      "metadata": {
        "id": "dUTaC8sBBsuL"
      },
      "source": [
        "#### break\n",
        "\n"
      ]
    },
    {
      "cell_type": "markdown",
      "metadata": {
        "id": "-zPB-iCKBsuL"
      },
      "source": [
        "`break` sirve para interrumpir un ciclo for.\n",
        "\n"
      ]
    },
    {
      "cell_type": "code",
      "execution_count": 41,
      "metadata": {
        "colab": {
          "base_uri": "https://localhost:8080/"
        },
        "id": "euvU1mCTBsuM",
        "outputId": "f43da5a3-0029-49ea-becb-9c4730d85904"
      },
      "outputs": [
        {
          "output_type": "stream",
          "name": "stdout",
          "text": [
            "Hola Sergio ¿Qué rollo?\n",
            "Hola Edgar ¿Qué rollo?\n",
            "Hola Maria ¿Qué rollo?\n",
            "Hola Ivan ¿Qué rollo?\n",
            "Hola Karem ¿Qué rollo?\n",
            "Hola Renata ¿Qué rollo?\n",
            "Ya saludé a los inscritos\n"
          ]
        }
      ],
      "source": [
        "for estudiante in estudiantes:\n",
        "    print(\"Hola\", estudiante, \"¿Qué rollo?\")\n",
        "    if estudiante == \"Renata\":\n",
        "        break\n",
        "\n",
        "print(\"Ya saludé a los inscritos\")"
      ]
    },
    {
      "cell_type": "markdown",
      "metadata": {
        "id": "He92s4kSBsuM"
      },
      "source": [
        "#### else en un ciclo for\n",
        "\n"
      ]
    },
    {
      "cell_type": "markdown",
      "metadata": {
        "id": "-TaZZsWRBsuM"
      },
      "source": [
        "La cláusula `else` en un ciclo `for` se ejecuta cuando el ciclo `for` termina de manera \"natural\", sin haber pasado por una cláusula `break`.\n",
        "\n"
      ]
    },
    {
      "cell_type": "code",
      "execution_count": 43,
      "metadata": {
        "colab": {
          "base_uri": "https://localhost:8080/"
        },
        "id": "QPVlClAVBsuM",
        "outputId": "eacebd17-cd07-4a1c-aa17-7b19a0cea16c"
      },
      "outputs": [
        {
          "output_type": "stream",
          "name": "stdout",
          "text": [
            "2 es un número primo\n",
            "3 es un número primo\n",
            "4 es igual a 2 * 2\n",
            "5 es un número primo\n",
            "6 es igual a 2 * 3\n",
            "7 es un número primo\n",
            "8 es igual a 2 * 4\n",
            "9 es igual a 3 * 3\n",
            "10 es igual a 2 * 5\n",
            "11 es un número primo\n",
            "12 es igual a 2 * 6\n",
            "13 es un número primo\n",
            "14 es igual a 2 * 7\n",
            "15 es igual a 3 * 5\n",
            "16 es igual a 2 * 8\n",
            "17 es un número primo\n",
            "18 es igual a 2 * 9\n",
            "19 es un número primo\n",
            "20 es igual a 2 * 10\n",
            "21 es igual a 3 * 7\n",
            "22 es igual a 2 * 11\n",
            "23 es un número primo\n",
            "24 es igual a 2 * 12\n",
            "25 es igual a 5 * 5\n",
            "26 es igual a 2 * 13\n",
            "27 es igual a 3 * 9\n",
            "28 es igual a 2 * 14\n",
            "29 es un número primo\n"
          ]
        }
      ],
      "source": [
        "for n in range(2, 30):\n",
        "    for x in range(2, n):\n",
        "        if n % x == 0:\n",
        "            print(n, 'es igual a', x, '*', n//x)\n",
        "            break\n",
        "    else:\n",
        "        # se terminó de checar posibles divisores sin encontrar uno\n",
        "        print(n, 'es un número primo')"
      ]
    },
    {
      "cell_type": "markdown",
      "metadata": {
        "id": "WgGOvkBWBsuN"
      },
      "source": [
        "#### continue\n",
        "\n",
        "\n",
        "Con el comando break rompe el programa"
      ]
    },
    {
      "cell_type": "code",
      "execution_count": 48,
      "metadata": {
        "colab": {
          "base_uri": "https://localhost:8080/"
        },
        "id": "Q_on9-cEBsuN",
        "outputId": "6af44f7c-bd19-4da7-8c95-1fc071ba22c2"
      },
      "outputs": [
        {
          "output_type": "stream",
          "name": "stdout",
          "text": [
            "Hola Sergio ¿Cómo estás?\n",
            "¿Qué materias estás llevando, Sergio ?\n",
            "Hola Edgar ¿Cómo estás?\n",
            "¿Qué materias estás llevando, Edgar ?\n",
            "Hola Maria ¿Cómo estás?\n",
            "¿Qué materias estás llevando, Maria ?\n",
            "Hola Ivan ¿Cómo estás?\n",
            "¿Qué materias estás llevando, Ivan ?\n",
            "Hola Karem ¿Cómo estás?\n",
            "¿Qué materias estás llevando, Karem ?\n",
            "Hola Renata ¿Cómo estás?\n",
            "¿Qué materias estás llevando, Renata ?\n",
            "Hola Erick ¿Cómo estás?\n",
            "¿Qué materias estás llevando, Erick ?\n"
          ]
        }
      ],
      "source": [
        "for estudiante in estudiantes:\n",
        "    print(\"Hola\", estudiante, \"¿Cómo estás?\")\n",
        "    if estudiante in [\"Edgar\", \"Sergio\"]:\n",
        "        break\n",
        "    print(\"¿Qué materias estás llevando,\", estudiante,\"?\")"
      ]
    },
    {
      "cell_type": "markdown",
      "metadata": {
        "id": "CUIrOb9VBsuN"
      },
      "source": [
        "#### pass\n",
        "\n"
      ]
    },
    {
      "cell_type": "markdown",
      "metadata": {
        "id": "IRW-GU4_BsuN"
      },
      "source": [
        "La claúsula `pass` no hace nada, pero puede servir para que un programa incompleto sea sintácticamente correcto.\n",
        "\n"
      ]
    },
    {
      "cell_type": "code",
      "execution_count": 51,
      "metadata": {
        "colab": {
          "base_uri": "https://localhost:8080/"
        },
        "id": "vou6jz0yBsuO",
        "outputId": "72a64c2b-3962-4c43-c31b-20f927dbeb44"
      },
      "outputs": [
        {
          "output_type": "stream",
          "name": "stdout",
          "text": [
            "Hola Sergio ¿Cómo estás?\n",
            "Hola Edgar ¿Cómo estás?\n",
            "Hola Maria ¿Cómo estás?\n",
            "Hola Ivan ¿Cómo estás?\n",
            "Hola Karem ¿Cómo estás?\n",
            "Hola Renata ¿Cómo estás?\n",
            "Hola Erick ¿Cómo estás?\n"
          ]
        }
      ],
      "source": [
        "for estudiante in estudiantes:\n",
        "    print(\"Hola\", estudiante, \"¿Cómo estás?\")\n",
        "    if estudiante in [\"Uriel\", \"Ruth\"]:\n",
        "        pass"
      ]
    },
    {
      "cell_type": "code",
      "execution_count": 52,
      "metadata": {
        "colab": {
          "base_uri": "https://localhost:8080/"
        },
        "id": "Bjt_nnDcBsuO",
        "outputId": "be16a2a6-2fa6-44ce-c907-8a7598f9c023"
      },
      "outputs": [
        {
          "output_type": "stream",
          "name": "stdout",
          "text": [
            "Hola Sergio ¿Cómo estás?\n",
            "Hola Edgar ¿Cómo estás?\n",
            "Hola Maria ¿Cómo estás?\n",
            "Hola Ivan ¿Cómo estás?\n",
            "Hola Karem ¿Cómo estás?\n",
            "Hola Renata ¿Cómo estás?\n",
            "Hola Erick ¿Cómo estás?\n"
          ]
        }
      ],
      "source": [
        "for estudiante in estudiantes:\n",
        "    print(\"Hola\", estudiante, \"¿Cómo estás?\")\n",
        "    if estudiante in [\"Uriel\", \"Ruth\"]:\n",
        "        print(\"Hola\", estudiante, \"¿Eres oyente?\")"
      ]
    }
  ],
  "metadata": {
    "kernelspec": {
      "display_name": "Python 3",
      "language": "python",
      "name": "python3"
    },
    "language_info": {
      "codemirror_mode": {
        "name": "ipython",
        "version": 3
      },
      "file_extension": ".py",
      "mimetype": "text/x-python",
      "name": "python",
      "nbconvert_exporter": "python",
      "pygments_lexer": "ipython3",
      "version": "3.9.2"
    },
    "org": null,
    "colab": {
      "provenance": [],
      "include_colab_link": true
    }
  },
  "nbformat": 4,
  "nbformat_minor": 0
}