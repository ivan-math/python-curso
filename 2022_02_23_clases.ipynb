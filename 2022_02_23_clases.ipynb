{
  "cells": [
    {
      "cell_type": "markdown",
      "metadata": {
        "id": "view-in-github",
        "colab_type": "text"
      },
      "source": [
        "<a href=\"https://colab.research.google.com/github/ivan-math/python-curso/blob/main/2022_02_23_clases.ipynb\" target=\"_parent\"><img src=\"https://colab.research.google.com/assets/colab-badge.svg\" alt=\"Open In Colab\"/></a>"
      ]
    },
    {
      "cell_type": "markdown",
      "metadata": {
        "id": "NUTF0RGxNdv-"
      },
      "source": [
        "Clases\n",
        "======\n",
        "\n",
        "**Date:** 2022-02-23\n",
        "\n"
      ]
    },
    {
      "cell_type": "markdown",
      "metadata": {
        "id": "kFTiD3LNNdwI"
      },
      "source": [
        "## Clases\n",
        "\n"
      ]
    },
    {
      "cell_type": "markdown",
      "metadata": {
        "id": "xiucNsGdNdwJ"
      },
      "source": [
        "### Introducción\n",
        "\n"
      ]
    },
    {
      "cell_type": "markdown",
      "metadata": {
        "id": "g-zLJ_p8NdwK"
      },
      "source": [
        "Ver [https://towardsdatascience.com/explaining-python-classes-in-a-simple-way-e3742827c8b5](https://towardsdatascience.com/explaining-python-classes-in-a-simple-way-e3742827c8b5)\n",
        "\n",
        "En Python se trabaja todo el tiempo con **objetos**. Cada objeto, a su vez, es una instancia de una **clase**. Por ejemplo:\n",
        "\n"
      ]
    },
    {
      "cell_type": "code",
      "execution_count": null,
      "metadata": {
        "id": "RhBciHnaNdwL",
        "outputId": "7bc533be-de71-40c3-de99-16180d668918"
      },
      "outputs": [
        {
          "name": "stdout",
          "output_type": "stream",
          "text": [
            "<class 'int'>\n"
          ]
        }
      ],
      "source": [
        "a = 28\n",
        "print(type(a))"
      ]
    },
    {
      "cell_type": "code",
      "execution_count": null,
      "metadata": {
        "id": "Kn8qgI9bNdwS",
        "outputId": "75529c10-16f8-480e-fde8-13a89963e4cf"
      },
      "outputs": [
        {
          "name": "stdout",
          "output_type": "stream",
          "text": [
            "<class 'list'>\n"
          ]
        }
      ],
      "source": [
        "b = [1, 2]\n",
        "print(type(b))"
      ]
    },
    {
      "cell_type": "code",
      "execution_count": null,
      "metadata": {
        "id": "QYuPfRv-NdwT",
        "outputId": "af6fbaf3-2cde-4e5c-e852-5341bc5b27b4"
      },
      "outputs": [
        {
          "name": "stdout",
          "output_type": "stream",
          "text": [
            "<class 'dict'>\n"
          ]
        }
      ],
      "source": [
        "c = {\"a\":1, \"b\":2, \"c\":34}\n",
        "print(type(c))"
      ]
    },
    {
      "cell_type": "markdown",
      "metadata": {
        "id": "4OisUSmuNdwV"
      },
      "source": [
        "Cada clase tiene asociadas algunas funciones que tienen sentido en las instancias de esa clase, esas funciones se llaman **métodos**. Para ver los métodos que se pueden asociar a un objeto, se puede usar la función `dir`.\n",
        "\n"
      ]
    },
    {
      "cell_type": "code",
      "execution_count": null,
      "metadata": {
        "id": "kgJzCV2VNdwW",
        "outputId": "20e7bce1-4814-4ee4-911a-a9b478d0d833"
      },
      "outputs": [
        {
          "data": {
            "text/plain": [
              "['__add__',\n",
              " '__class__',\n",
              " '__class_getitem__',\n",
              " '__contains__',\n",
              " '__delattr__',\n",
              " '__delitem__',\n",
              " '__dir__',\n",
              " '__doc__',\n",
              " '__eq__',\n",
              " '__format__',\n",
              " '__ge__',\n",
              " '__getattribute__',\n",
              " '__getitem__',\n",
              " '__gt__',\n",
              " '__hash__',\n",
              " '__iadd__',\n",
              " '__imul__',\n",
              " '__init__',\n",
              " '__init_subclass__',\n",
              " '__iter__',\n",
              " '__le__',\n",
              " '__len__',\n",
              " '__lt__',\n",
              " '__mul__',\n",
              " '__ne__',\n",
              " '__new__',\n",
              " '__reduce__',\n",
              " '__reduce_ex__',\n",
              " '__repr__',\n",
              " '__reversed__',\n",
              " '__rmul__',\n",
              " '__setattr__',\n",
              " '__setitem__',\n",
              " '__sizeof__',\n",
              " '__str__',\n",
              " '__subclasshook__',\n",
              " 'append',\n",
              " 'clear',\n",
              " 'copy',\n",
              " 'count',\n",
              " 'extend',\n",
              " 'index',\n",
              " 'insert',\n",
              " 'pop',\n",
              " 'remove',\n",
              " 'reverse',\n",
              " 'sort']"
            ]
          },
          "execution_count": 6,
          "metadata": {},
          "output_type": "execute_result"
        }
      ],
      "source": [
        "dir(b)"
      ]
    },
    {
      "cell_type": "markdown",
      "metadata": {
        "id": "GnVVpecsNdwX"
      },
      "source": [
        "Los métodos que usan dos guiones bajos (como `__mul__`) son especiales. Para encontrar información sobre un método, podemos usar la función `help`, o bien usar un signo ? en jupyter: `b.append?`.\n",
        "\n"
      ]
    },
    {
      "cell_type": "code",
      "execution_count": null,
      "metadata": {
        "id": "Udqh9xN7NdwZ"
      },
      "outputs": [],
      "source": [
        "b.append?"
      ]
    },
    {
      "cell_type": "markdown",
      "metadata": {
        "id": "QWr9IC16Ndwa"
      },
      "source": [
        "Como podemos ver, los métodos asociados a un diccionario, por ejemplo, son diferentes a los de una lista:\n",
        "\n"
      ]
    },
    {
      "cell_type": "code",
      "execution_count": null,
      "metadata": {
        "id": "czdi3ByhNdwa",
        "outputId": "d36b6362-ca39-45ed-ef8a-192eac2cdb12"
      },
      "outputs": [
        {
          "data": {
            "text/plain": [
              "['__class__',\n",
              " '__class_getitem__',\n",
              " '__contains__',\n",
              " '__delattr__',\n",
              " '__delitem__',\n",
              " '__dir__',\n",
              " '__doc__',\n",
              " '__eq__',\n",
              " '__format__',\n",
              " '__ge__',\n",
              " '__getattribute__',\n",
              " '__getitem__',\n",
              " '__gt__',\n",
              " '__hash__',\n",
              " '__init__',\n",
              " '__init_subclass__',\n",
              " '__ior__',\n",
              " '__iter__',\n",
              " '__le__',\n",
              " '__len__',\n",
              " '__lt__',\n",
              " '__ne__',\n",
              " '__new__',\n",
              " '__or__',\n",
              " '__reduce__',\n",
              " '__reduce_ex__',\n",
              " '__repr__',\n",
              " '__reversed__',\n",
              " '__ror__',\n",
              " '__setattr__',\n",
              " '__setitem__',\n",
              " '__sizeof__',\n",
              " '__str__',\n",
              " '__subclasshook__',\n",
              " 'clear',\n",
              " 'copy',\n",
              " 'fromkeys',\n",
              " 'get',\n",
              " 'items',\n",
              " 'keys',\n",
              " 'pop',\n",
              " 'popitem',\n",
              " 'setdefault',\n",
              " 'update',\n",
              " 'values']"
            ]
          },
          "execution_count": 10,
          "metadata": {},
          "output_type": "execute_result"
        }
      ],
      "source": [
        "dir(c)"
      ]
    },
    {
      "cell_type": "markdown",
      "metadata": {
        "id": "vaTZEWmRNdwc"
      },
      "source": [
        "### Crear nuestras propias clases\n",
        "\n"
      ]
    },
    {
      "cell_type": "markdown",
      "metadata": {
        "id": "YulbmM2eNdwc"
      },
      "source": [
        "Las clases se crean con la palabra reservada `class`. Por convención, las nombres de las clases que hagamos deben empezar con letras mayúsculas.\n",
        "\n"
      ]
    },
    {
      "cell_type": "code",
      "execution_count": null,
      "metadata": {
        "id": "stwhkaSPNdwd",
        "outputId": "2bf6c707-14e5-421b-e891-04415e83e454"
      },
      "outputs": [
        {
          "name": "stdout",
          "output_type": "stream",
          "text": [
            "<class '__main__.Persona'>\n"
          ]
        }
      ],
      "source": [
        "class Persona:\n",
        "    pass\n",
        "\n",
        "a = Persona()\n",
        "print(type(a))"
      ]
    },
    {
      "cell_type": "markdown",
      "metadata": {
        "id": "b-YyCLqZNdwe"
      },
      "source": [
        "Además de funciones (métodos), los objetos pueden tener constantes asociadas a ellos (atributos).\n",
        "\n"
      ]
    },
    {
      "cell_type": "code",
      "execution_count": null,
      "metadata": {
        "id": "b4LMmFnPNdwf",
        "outputId": "7abc3592-c6aa-4380-966c-e014fe1fa0ff"
      },
      "outputs": [
        {
          "data": {
            "text/plain": [
              "('Rafael', 'Pachuca')"
            ]
          },
          "execution_count": 14,
          "metadata": {},
          "output_type": "execute_result"
        }
      ],
      "source": [
        "a.nombre = \"Rafael\"\n",
        "a.ciudad = \"Pachuca\"\n",
        "a.nombre, a.ciudad"
      ]
    },
    {
      "cell_type": "code",
      "execution_count": null,
      "metadata": {
        "id": "_yzMDS6zNdwg",
        "outputId": "9a576614-926a-4910-db09-546f4972a888"
      },
      "outputs": [
        {
          "data": {
            "text/plain": [
              "('Lionel',\n",
              " 'Messi',\n",
              " 'Miami',\n",
              " <__main__.Persona at 0x7fc3f87b5df0>,\n",
              " __main__.Persona)"
            ]
          },
          "execution_count": 15,
          "metadata": {},
          "output_type": "execute_result"
        }
      ],
      "source": [
        "b = Persona()\n",
        "b.nombre = \"Lionel\"\n",
        "b.apellido = \"Messi\"\n",
        "b.ciudad = \"Miami\"\n",
        "b.nombre, b.apellido, b.ciudad, b, type(b)"
      ]
    },
    {
      "cell_type": "markdown",
      "metadata": {
        "id": "uQrc4xCxNdwh"
      },
      "source": [
        "Hay muchos objetos matemáticos que podemos pensar de esta manera.\n",
        "\n"
      ]
    },
    {
      "cell_type": "code",
      "execution_count": null,
      "metadata": {
        "id": "SbqhhPyjNdwi",
        "outputId": "a4ed35d3-fbf5-4036-ebd6-d1a1e1058983"
      },
      "outputs": [
        {
          "data": {
            "text/plain": [
              "(3, -2, <__main__.Complejo at 0x7fc3fa0470a0>)"
            ]
          },
          "execution_count": 16,
          "metadata": {},
          "output_type": "execute_result"
        }
      ],
      "source": [
        "class Complejo:\n",
        "    pass\n",
        "\n",
        "z = Complejo()\n",
        "z.parte_real = 3\n",
        "z.parte_imaginaria = -2\n",
        "z.parte_real, z.parte_imaginaria, z"
      ]
    },
    {
      "cell_type": "code",
      "execution_count": null,
      "metadata": {
        "id": "h0Lk9UK9Ndwj",
        "outputId": "ea776bbd-4e0f-4da3-97ed-e4b3b3428b8c"
      },
      "outputs": [
        {
          "data": {
            "text/plain": [
              "({'linterna': 10,\n",
              "  'libro': 2,\n",
              "  'baterías': 4,\n",
              "  'lata': 7,\n",
              "  'bolsa de dormir': 20,\n",
              "  'mapa': 6,\n",
              "  'celular': 7,\n",
              "  'encendedor': 8,\n",
              "  'asador': 6,\n",
              "  'computadora': 7},\n",
              " {'linterna': 3,\n",
              "  'libro': 5,\n",
              "  'baterías': 1,\n",
              "  'lata': 3,\n",
              "  'bolsa de dormir': 8,\n",
              "  'mapa': 1,\n",
              "  'celular': 2,\n",
              "  'encendedor': 1,\n",
              "  'asador': 10,\n",
              "  'computadora': 1},\n",
              " 15)"
            ]
          },
          "execution_count": 17,
          "metadata": {},
          "output_type": "execute_result"
        }
      ],
      "source": [
        "class ProblemaMochila:\n",
        "    pass\n",
        "\n",
        "pm = ProblemaMochila()\n",
        "pm.utilidades = {\"linterna\":10, \"libro\":2, \"baterías\":4, \"lata\":7, \"bolsa de dormir\": 20, \"mapa\":6, \"celular\":7, \"encendedor\": 8, \"asador\":6, \"computadora\":7}\n",
        "pm.pesos = {\"linterna\":3, \"libro\":5, \"baterías\":1, \"lata\":3, \"bolsa de dormir\": 8, \"mapa\":1, \"celular\": 2, \"encendedor\":1, \"asador\":10, \"computadora\":1}\n",
        "pm.límite = 15\n",
        "pm.utilidades, pm.pesos, pm.límite"
      ]
    },
    {
      "cell_type": "markdown",
      "metadata": {
        "id": "81pgB5TsNdwk"
      },
      "source": [
        "### Función inicializadora\n",
        "\n"
      ]
    },
    {
      "cell_type": "markdown",
      "metadata": {
        "id": "x8q5DZliNdwk"
      },
      "source": [
        "El método `__init__` se puede usar para crear y dar valor a algunos atributos al tiempo de crear la instancia de la clase. La instancia misma es siempre un argumento de la función inicializadora, y por convención, nos referimos a ella con `self`. Sin embargo, al crear la instancia de la clase, sólo usamos los otros argumentos.\n",
        "\n"
      ]
    },
    {
      "cell_type": "code",
      "execution_count": null,
      "metadata": {
        "id": "38n7tdsFNdwl",
        "outputId": "218f63e9-9c9e-4e64-9723-9672af32b7a1"
      },
      "outputs": [
        {
          "data": {
            "text/plain": [
              "('Lionel', 'Messi', 'Miami')"
            ]
          },
          "execution_count": 21,
          "metadata": {},
          "output_type": "execute_result"
        }
      ],
      "source": [
        "class Persona:\n",
        "    def __init__(self, nombre, ciudad, apelativo):\n",
        "        self.nombre = nombre\n",
        "        self.ciudad = ciudad\n",
        "        self.apellido = apelativo\n",
        "\n",
        "b = Persona(\"Lionel\", \"Messi\", \"Miami\")\n",
        "b.nombre, b.ciudad, b.apellido"
      ]
    },
    {
      "cell_type": "code",
      "execution_count": null,
      "metadata": {
        "id": "Uvtqzx4uNdwm",
        "outputId": "444425ea-ccf9-4930-e933-8a54c252f70c"
      },
      "outputs": [
        {
          "data": {
            "text/plain": [
              "(2, -3, <__main__.NúmeroComplejo at 0x7fc3f87b5280>, __main__.NúmeroComplejo)"
            ]
          },
          "execution_count": 22,
          "metadata": {},
          "output_type": "execute_result"
        }
      ],
      "source": [
        "class NúmeroComplejo:\n",
        "    def __init__(self, parte_real, parte_imaginaria):\n",
        "        self.r = parte_real\n",
        "        self.i = parte_imaginaria\n",
        "\n",
        "z = NúmeroComplejo(2, -3)\n",
        "z.r, z.i, z, type(z)"
      ]
    },
    {
      "cell_type": "code",
      "execution_count": null,
      "metadata": {
        "id": "0Mj5rVRsNdwm"
      },
      "outputs": [],
      "source": [
        "class ProblemaMochila:\n",
        "    def __init__(self, utilidades, pesos, límite):\n",
        "        self.utilidades = utilidades\n",
        "        self.pesos = pesos\n",
        "        self.límite = límite"
      ]
    },
    {
      "cell_type": "code",
      "execution_count": null,
      "metadata": {
        "id": "NNyBMK0ONdwn",
        "outputId": "64b47850-0ce9-4734-bb65-f235d062f38e"
      },
      "outputs": [
        {
          "data": {
            "text/plain": [
              "({'linterna': 10,\n",
              "  'libro': 2,\n",
              "  'baterías': 4,\n",
              "  'lata': 7,\n",
              "  'bolsa de dormir': 20,\n",
              "  'mapa': 6,\n",
              "  'celular': 7,\n",
              "  'encendedor': 8,\n",
              "  'asador': 6,\n",
              "  'computadora': 7},\n",
              " {'linterna': 3,\n",
              "  'libro': 5,\n",
              "  'baterías': 1,\n",
              "  'lata': 3,\n",
              "  'bolsa de dormir': 8,\n",
              "  'mapa': 1,\n",
              "  'celular': 2,\n",
              "  'encendedor': 1,\n",
              "  'asador': 10,\n",
              "  'computadora': 1},\n",
              " 15)"
            ]
          },
          "execution_count": 25,
          "metadata": {},
          "output_type": "execute_result"
        }
      ],
      "source": [
        "utilidad = {\"linterna\":10, \"libro\":2, \"baterías\":4, \"lata\":7, \"bolsa de dormir\": 20, \"mapa\":6, \"celular\":7, \"encendedor\": 8, \"asador\":6, \"computadora\":7}\n",
        "peso = {\"linterna\":3, \"libro\":5, \"baterías\":1, \"lata\":3, \"bolsa de dormir\": 8, \"mapa\":1, \"celular\": 2, \"encendedor\":1, \"asador\":10, \"computadora\":1}\n",
        "lím = 15\n",
        "\n",
        "pm = ProblemaMochila(utilidad, peso, lím)\n",
        "pm.utilidades, pm.pesos, pm.límite"
      ]
    },
    {
      "cell_type": "markdown",
      "metadata": {
        "id": "440be_7LNdwo"
      },
      "source": [
        "### Otros métodos\n",
        "\n"
      ]
    },
    {
      "cell_type": "markdown",
      "metadata": {
        "id": "7PBif50lNdwo"
      },
      "source": [
        "Además del método inicializador, se pueden definir otros métodos, que son propios de cada clase:\n",
        "\n"
      ]
    },
    {
      "cell_type": "code",
      "execution_count": null,
      "metadata": {
        "id": "qFt14OryNdwo",
        "outputId": "801ef41d-489b-4cf2-d755-14c99ed3f8bd"
      },
      "outputs": [
        {
          "data": {
            "text/plain": [
              "'Hola Lionel. ¿Cómo está todo en Miami?'"
            ]
          },
          "execution_count": 26,
          "metadata": {},
          "output_type": "execute_result"
        }
      ],
      "source": [
        "class Persona:\n",
        "    def __init__(self, nombre, ciudad):\n",
        "        self.nombre = nombre\n",
        "        self.ciudad = ciudad\n",
        "\n",
        "    def saludo(self):\n",
        "        return f\"Hola {self.nombre}. ¿Cómo está todo en {self.ciudad}?\"\n",
        "\n",
        "b = Persona(\"Lionel\", \"Miami\")\n",
        "b.saludo()"
      ]
    },
    {
      "cell_type": "code",
      "execution_count": null,
      "metadata": {
        "id": "W8w89lmwNdwp",
        "outputId": "696116ff-878c-4346-a51d-8edc8b4fbae1"
      },
      "outputs": [
        {
          "data": {
            "text/plain": [
              "'Hola Leonel. ¿Cómo está todo en París?'"
            ]
          },
          "execution_count": 27,
          "metadata": {},
          "output_type": "execute_result"
        }
      ],
      "source": [
        "c = Persona(\"Leonel\", \"París\")\n",
        "\n",
        "c.saludo()"
      ]
    },
    {
      "cell_type": "code",
      "execution_count": null,
      "metadata": {
        "id": "ubR4TLRhNdwq",
        "outputId": "0a2fa391-d001-428c-8cbe-fccd57a8ff65"
      },
      "outputs": [
        {
          "data": {
            "text/plain": [
              "['__class__',\n",
              " '__delattr__',\n",
              " '__dict__',\n",
              " '__dir__',\n",
              " '__doc__',\n",
              " '__eq__',\n",
              " '__format__',\n",
              " '__ge__',\n",
              " '__getattribute__',\n",
              " '__gt__',\n",
              " '__hash__',\n",
              " '__init__',\n",
              " '__init_subclass__',\n",
              " '__le__',\n",
              " '__lt__',\n",
              " '__module__',\n",
              " '__ne__',\n",
              " '__new__',\n",
              " '__reduce__',\n",
              " '__reduce_ex__',\n",
              " '__repr__',\n",
              " '__setattr__',\n",
              " '__sizeof__',\n",
              " '__str__',\n",
              " '__subclasshook__',\n",
              " '__weakref__',\n",
              " 'ciudad',\n",
              " 'nombre',\n",
              " 'saludo']"
            ]
          },
          "execution_count": 28,
          "metadata": {},
          "output_type": "execute_result"
        }
      ],
      "source": [
        "dir(c)"
      ]
    },
    {
      "cell_type": "markdown",
      "metadata": {
        "id": "Lo91JmZ7Ndwr"
      },
      "source": [
        "Como cualquier función, los métodos pueden tener argumentos opcionales. Las clases y métodos pueden tener documentación.\n",
        "\n"
      ]
    },
    {
      "cell_type": "code",
      "execution_count": null,
      "metadata": {
        "id": "9lCzp5EHNdwr"
      },
      "outputs": [],
      "source": [
        "class Persona:\n",
        "    \"\"\"Clase para agrupar los datos de una persona.\"\"\"\n",
        "    def __init__(self, nombre, ciudad):\n",
        "        self.nombre = nombre\n",
        "        self.ciudad = ciudad\n",
        "\n",
        "    def saludo(self, vocativo=\"Hola\"):\n",
        "        \"\"\"Regresa un saludo personalizado con los datos de una Persona.\"\"\"\n",
        "        return f\"{vocativo} {self.nombre}. ¿Cómo va todo en {self.ciudad}?\"\n",
        "\n",
        "b = Persona(\"Rafael\", \"Ciudad de México\")\n",
        "c = Persona(\"Lionel\", \"Miami\")"
      ]
    },
    {
      "cell_type": "code",
      "execution_count": null,
      "metadata": {
        "id": "I4yV-48nNdws",
        "outputId": "1cb35f01-11fc-4bd4-fff9-84bc1948ce4f"
      },
      "outputs": [
        {
          "data": {
            "text/plain": [
              "'Hola Rafael. ¿Cómo va todo en Ciudad de México?'"
            ]
          },
          "execution_count": 33,
          "metadata": {},
          "output_type": "execute_result"
        }
      ],
      "source": [
        "b.saludo()"
      ]
    },
    {
      "cell_type": "code",
      "execution_count": null,
      "metadata": {
        "id": "bvrnvVIDNdws",
        "outputId": "f3573e28-d9bf-4a5d-d933-cf8469b5c425"
      },
      "outputs": [
        {
          "data": {
            "text/plain": [
              "'Qué tal Lionel. ¿Cómo va todo en Miami?'"
            ]
          },
          "execution_count": 34,
          "metadata": {},
          "output_type": "execute_result"
        }
      ],
      "source": [
        "c.saludo(\"Qué tal\")"
      ]
    },
    {
      "cell_type": "code",
      "execution_count": null,
      "metadata": {
        "id": "89VpxhT3Ndwt"
      },
      "outputs": [],
      "source": [
        "help(Persona)"
      ]
    },
    {
      "cell_type": "code",
      "execution_count": null,
      "metadata": {
        "id": "sJJ4_1iWNdwu"
      },
      "outputs": [],
      "source": [
        "help(Persona.saludo)"
      ]
    },
    {
      "cell_type": "markdown",
      "metadata": {
        "id": "o0avMO4sNdwx"
      },
      "source": [
        "Como las instancias de las clases que hemos creado también son objetos, se pueden definir funciones externas que las usen como argumento:\n",
        "\n"
      ]
    },
    {
      "cell_type": "code",
      "execution_count": null,
      "metadata": {
        "id": "eBTciz9tNdwy",
        "outputId": "bda36d5d-9cf7-4a93-e4e3-3c9d964f55ca"
      },
      "outputs": [
        {
          "data": {
            "text/plain": [
              "'Oye Lionel. ¿Ya te vacunaste en Miami?.'"
            ]
          },
          "execution_count": 35,
          "metadata": {},
          "output_type": "execute_result"
        }
      ],
      "source": [
        "def vacuna(persona):\n",
        "    return f\"Oye {persona.nombre}. ¿Ya te vacunaste en {persona.ciudad}?.\"\n",
        "\n",
        "vacuna(c)"
      ]
    },
    {
      "cell_type": "markdown",
      "metadata": {
        "id": "Qh03y8p-Ndwy"
      },
      "source": [
        "## Una clase matemática\n",
        "\n"
      ]
    },
    {
      "cell_type": "code",
      "execution_count": 1,
      "metadata": {
        "colab": {
          "base_uri": "https://localhost:8080/"
        },
        "id": "T6dzRCHxNdwz",
        "outputId": "091af2f8-4f4c-4340-ee5b-d9c89e0e7ac9"
      },
      "outputs": [
        {
          "output_type": "execute_result",
          "data": {
            "text/plain": [
              "(3, -1, <__main__.NúmeroComplejo at 0x7f05de39f910>, 3.1622776601683795)"
            ]
          },
          "metadata": {},
          "execution_count": 1
        }
      ],
      "source": [
        "from math import sqrt\n",
        "\n",
        "class NúmeroComplejo:\n",
        "    def __init__(self, parte_real, parte_imaginaria):\n",
        "        self.r = parte_real\n",
        "        self.i = parte_imaginaria\n",
        "\n",
        "    def módulo(self):\n",
        "        return sqrt(self.r**2 + self.i**2)\n",
        "\n",
        "z = NúmeroComplejo(3, -1)\n",
        "z.r, z.i, z, z.módulo()"
      ]
    },
    {
      "cell_type": "markdown",
      "metadata": {
        "id": "-rLelGsJNdw0"
      },
      "source": [
        "Podemos regresar una representación legible del objeto de una clase, definiendo el método `__repr__` de una clase. Por convención, se debe regresar una cadena a partir de la cual Python pueda reconstruir el objeto.\n",
        "\n"
      ]
    },
    {
      "cell_type": "code",
      "execution_count": 8,
      "metadata": {
        "colab": {
          "base_uri": "https://localhost:8080/"
        },
        "id": "H525LuwgNdw0",
        "outputId": "689acfe5-972f-49a0-c20a-758fa49f3e9a"
      },
      "outputs": [
        {
          "output_type": "execute_result",
          "data": {
            "text/plain": [
              "(3, -4, NúmeroComplejo(3, -4), 5)"
            ]
          },
          "metadata": {},
          "execution_count": 8
        }
      ],
      "source": [
        "class NúmeroComplejo:\n",
        "    def __init__(self, parte_real, parte_imaginaria):\n",
        "        self.r = parte_real\n",
        "        self.i = parte_imaginaria\n",
        "\n",
        "    def __repr__(self):\n",
        "        return f\"NúmeroComplejo({self.r}, {self.i})\"\n",
        "\n",
        "    def módulo(self):\n",
        "        return sqrt(self.r**2+self.i**2)\n",
        "\n",
        "z = NúmeroComplejo(3, -4)\n",
        "z.r, z.i, z, z.módulo()"
      ]
    },
    {
      "cell_type": "code",
      "execution_count": 3,
      "metadata": {
        "colab": {
          "base_uri": "https://localhost:8080/"
        },
        "id": "Wx6RWIGaNdw1",
        "outputId": "36a8c33c-b099-4a2e-acdf-e1cf651d1d13"
      },
      "outputs": [
        {
          "output_type": "execute_result",
          "data": {
            "text/plain": [
              "NúmeroComplejo(-2, 5)"
            ]
          },
          "metadata": {},
          "execution_count": 3
        }
      ],
      "source": [
        "w = NúmeroComplejo(-2, 5)\n",
        "w"
      ]
    },
    {
      "cell_type": "markdown",
      "metadata": {
        "id": "51Flej5vNdw2"
      },
      "source": [
        "Podríamos definir una función que sume dos números complejos:\n",
        "\n"
      ]
    },
    {
      "cell_type": "code",
      "execution_count": 4,
      "metadata": {
        "colab": {
          "base_uri": "https://localhost:8080/"
        },
        "id": "qO6jaKfyNdw2",
        "outputId": "39ad0693-b271-44f2-e947-15c222ae1e61"
      },
      "outputs": [
        {
          "output_type": "execute_result",
          "data": {
            "text/plain": [
              "NúmeroComplejo(6, 0)"
            ]
          },
          "metadata": {},
          "execution_count": 4
        }
      ],
      "source": [
        "def suma_complejos(z1, z2):\n",
        "    return NúmeroComplejo(z1.r + z2.r, z1.i + z2.i)\n",
        "\n",
        "z = NúmeroComplejo(3, -4)\n",
        "w = NúmeroComplejo(3, 4)\n",
        "\n",
        "suma_complejos(z, w)"
      ]
    },
    {
      "cell_type": "markdown",
      "metadata": {
        "id": "7nhBd6g6Ndw3"
      },
      "source": [
        "Pero quisiéramos que fuera posible definir la suma directamente usando el operador `+`. Eso no es posible en este momento:\n",
        "\n"
      ]
    },
    {
      "cell_type": "code",
      "execution_count": null,
      "metadata": {
        "id": "RybS03xANdw3"
      },
      "outputs": [],
      "source": [
        "z, w, z+w"
      ]
    },
    {
      "cell_type": "markdown",
      "metadata": {
        "id": "Z3WrJTY9Ndw4"
      },
      "source": [
        "Para definir la suma directamente, se define el método `__add__`, cuyos argumentos son `self` y `other`:\n",
        "\n"
      ]
    },
    {
      "cell_type": "code",
      "execution_count": 6,
      "metadata": {
        "colab": {
          "base_uri": "https://localhost:8080/"
        },
        "id": "OJTOBReFNdw5",
        "outputId": "b0f40c0c-e0b2-4eb1-bcc2-c04450b1276a"
      },
      "outputs": [
        {
          "output_type": "execute_result",
          "data": {
            "text/plain": [
              "(2, -1, Complejo(2, -1), sqrt(5))"
            ]
          },
          "metadata": {},
          "execution_count": 6
        }
      ],
      "source": [
        "from sympy import sqrt\n",
        "\n",
        "class Complejo:\n",
        "    def __init__(self, parte_real, parte_imaginaria):\n",
        "        self.r = parte_real\n",
        "        self.i = parte_imaginaria\n",
        "\n",
        "    def __repr__(self):\n",
        "        return f\"Complejo({self.r}, {self.i})\"\n",
        "\n",
        "    def __add__(self, other):\n",
        "        return Complejo(self.r + other.r, self.i + other.i)\n",
        "\n",
        "    def módulo(self):\n",
        "        return sqrt(self.r**2+self.i**2)\n",
        "\n",
        "z = Complejo(2, -1)\n",
        "z.r, z.i, z, z.módulo()"
      ]
    },
    {
      "cell_type": "code",
      "execution_count": 7,
      "metadata": {
        "colab": {
          "base_uri": "https://localhost:8080/"
        },
        "id": "VpKrraChNdw5",
        "outputId": "71584f64-a7b7-40a1-f6f2-b94cc6216af1"
      },
      "outputs": [
        {
          "output_type": "execute_result",
          "data": {
            "text/plain": [
              "(Complejo(2, -5), Complejo(3, 4), Complejo(5, -1))"
            ]
          },
          "metadata": {},
          "execution_count": 7
        }
      ],
      "source": [
        "z = Complejo(2, -5)\n",
        "w = Complejo(3, 4)\n",
        "z, w, z+w"
      ]
    },
    {
      "cell_type": "code",
      "execution_count": null,
      "metadata": {
        "id": "ORHE84a6Ndw6"
      },
      "outputs": [],
      "source": [
        "Complejo(-19, 4) + Complejo(3, 2)"
      ]
    },
    {
      "cell_type": "markdown",
      "metadata": {
        "id": "86f1beZDNdw7"
      },
      "source": [
        "TAREA:\n",
        "\n",
        "-   Definir la resta (`__sub__`) y la multiplicación (`__mul__`) de dos números, usando los operadores `-` y `*`.\n",
        "-   En la clase `ProgramaMochila`, definir un método `solución`.\n",
        "\n",
        "-   Definir métodos que se llamen `conjugado`, `inverso`. Definir división de complejos (`__div__`).\n",
        "\n"
      ]
    },
    {
      "cell_type": "markdown",
      "metadata": {
        "id": "n-6aligiNdw7"
      },
      "source": [
        "## Herencia\n",
        "\n"
      ]
    },
    {
      "cell_type": "markdown",
      "metadata": {
        "id": "8pqqJdy_Ndw8"
      },
      "source": [
        "Se pueden generar nuevas clases a partir de otras. Por ejemplo, definamos una clase `Estudiante` a partir de la clase `Persona`.\n",
        "\n"
      ]
    },
    {
      "cell_type": "code",
      "execution_count": null,
      "metadata": {
        "id": "Xa4ap_9-Ndw9"
      },
      "outputs": [],
      "source": [
        "class Persona:\n",
        "    \"\"\"Clase para agrupar los datos de una persona.\"\"\"\n",
        "    def __init__(self, nombre, ciudad):\n",
        "        self.nombre = nombre\n",
        "        self.ciudad = ciudad\n",
        "\n",
        "    def __repr__(self):\n",
        "        return f\"Persona('{self.nombre}', '{self.ciudad}')\"\n",
        "\n",
        "    def saludo(self, vocativo=\"Hola\"):\n",
        "        \"\"\"Regresa un saludo personalizado con los datos de una Persona.\"\"\"\n",
        "        return f\"{vocativo} {self.nombre}. ¿Cómo va todo en {self.ciudad}?\"\n",
        "\n",
        "\n",
        "b = Persona(\"Rafael\", \"Pachuca\")\n",
        "c = Persona(\"Lionel\", \"París\")\n",
        "c, b"
      ]
    },
    {
      "cell_type": "code",
      "execution_count": null,
      "metadata": {
        "id": "jxolj-SjNdw9"
      },
      "outputs": [],
      "source": [
        "class Estudiante(Persona):\n",
        "    pass\n",
        "\n",
        "d = Estudiante(\"Karen\", \"Tulancingo\")\n",
        "d, d.saludo()"
      ]
    },
    {
      "cell_type": "code",
      "execution_count": null,
      "metadata": {
        "id": "BkD8m6C8Ndw-"
      },
      "outputs": [],
      "source": [
        "class Estudiante(Persona):\n",
        "    def __repr__(self):\n",
        "        return f\"Estudiante('{self.nombre}', '{self.ciudad}')\"\n",
        "\n",
        "d = Estudiante(\"Karen\", \"Tulancingo\")\n",
        "d, d.saludo()"
      ]
    },
    {
      "cell_type": "markdown",
      "metadata": {
        "id": "aNuSCBuyNdw_"
      },
      "source": [
        "Podemos reescribir métodos (encimando su definición sobre la clase padre) y añadir otros.\n",
        "\n"
      ]
    },
    {
      "cell_type": "code",
      "execution_count": null,
      "metadata": {
        "id": "A_jPzwwINdw_"
      },
      "outputs": [],
      "source": [
        "class Estudiante(Persona):\n",
        "    def __repr__(self):\n",
        "        return f\"Estudiante('{self.nombre}', '{self.ciudad}')\"\n",
        "\n",
        "    def escuela(self):\n",
        "        return f\"¿Cuál es tu escuela {self.nombre}?\"\n",
        "\n",
        "d = Estudiante(\"Karen\", \"Tulancingo\")\n",
        "d, d.saludo(), d.escuela()"
      ]
    },
    {
      "cell_type": "markdown",
      "metadata": {
        "id": "PCZmZcqcNdxA"
      },
      "source": [
        "Sin embargo, si queremos definir la clase `Estudiante` con un atributo extra por medio de una nueva función `__init__`, vamos a encimar la definición de la clase padre.\n",
        "\n"
      ]
    },
    {
      "cell_type": "code",
      "execution_count": null,
      "metadata": {
        "id": "Re-3DcNBNdxB"
      },
      "outputs": [],
      "source": [
        "class Estudiante(Persona):\n",
        "    def __init__(self, nombre, ciudad, cuenta):\n",
        "       self.nombre = nombre\n",
        "       self.ciudad = ciudad\n",
        "       self.cuenta = cuenta\n",
        "\n",
        "    def __repr__(self):\n",
        "        return f\"Estudiante('{self.nombre}', '{self.ciudad}', {self.cuenta})\"\n",
        "\n",
        "    def escuela(self):\n",
        "        return f\"¿Cuál es tu escuela {self.cuenta}?\"\n",
        "\n",
        "d = Estudiante(\"Verania\", \"Apan\", 12345)\n",
        "d, d.saludo(), d.escuela()"
      ]
    },
    {
      "cell_type": "code",
      "execution_count": null,
      "metadata": {
        "id": "Ov7IdamMNdxC"
      },
      "outputs": [],
      "source": [
        "v = Estudiante('Verania', 'Apan', 12345)\n",
        "v"
      ]
    },
    {
      "cell_type": "markdown",
      "metadata": {
        "id": "YaS7vFBINdxC"
      },
      "source": [
        "Cuando una clase hereda a otra (como aquí `Estudiante` hereda a `Persona`), se dice que `Estudiante` es una subclase de `Persona`. (lo que estamos haciendo en *subclassing*).\n",
        "\n",
        "Otra manera:\n",
        "\n"
      ]
    },
    {
      "cell_type": "code",
      "execution_count": null,
      "metadata": {
        "id": "uuAo_jZjNdxD"
      },
      "outputs": [],
      "source": [
        "class Estudiante(Persona):\n",
        "    def __init__(self, nombre, ciudad, cuenta):\n",
        "        super().__init__(nombre, ciudad)\n",
        "        self.cuenta = cuenta\n",
        "\n",
        "    def __repr__(self):\n",
        "        return f\"Estudiante('{self.nombre}', '{self.ciudad}', {self.cuenta})\"\n",
        "\n",
        "    def número(self):\n",
        "        return f\"{self.nombre} tiene número de cuenta {self.cuenta}.\"\n",
        "\n",
        "d = Estudiante(\"Verania\", \"Apan\", \"12345\")\n",
        "d, d.saludo(), d.número()"
      ]
    }
  ],
  "metadata": {
    "kernelspec": {
      "display_name": "Python 3",
      "language": "python",
      "name": "python3"
    },
    "language_info": {
      "codemirror_mode": {
        "name": "ipython",
        "version": 3
      },
      "file_extension": ".py",
      "mimetype": "text/x-python",
      "name": "python",
      "nbconvert_exporter": "python",
      "pygments_lexer": "ipython3",
      "version": "3.9.2"
    },
    "org": null,
    "colab": {
      "provenance": [],
      "include_colab_link": true
    }
  },
  "nbformat": 4,
  "nbformat_minor": 0
}