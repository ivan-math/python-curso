{
  "cells": [
    {
      "cell_type": "markdown",
      "metadata": {
        "id": "view-in-github",
        "colab_type": "text"
      },
      "source": [
        "<a href=\"https://colab.research.google.com/github/ivan-math/python-curso/blob/main/2023_08_09_numeros_cadenas.ipynb\" target=\"_parent\"><img src=\"https://colab.research.google.com/assets/colab-badge.svg\" alt=\"Open In Colab\"/></a>"
      ]
    },
    {
      "cell_type": "markdown",
      "metadata": {
        "id": "v9Binbg-W4v6"
      },
      "source": [
        "Números y cadenas\n",
        "=================\n",
        "\n",
        "**Date:** 2022-01-25\n",
        "\n"
      ]
    },
    {
      "cell_type": "markdown",
      "metadata": {
        "id": "geO7X5i1W4v_"
      },
      "source": [
        "## Números\n",
        "\n"
      ]
    },
    {
      "cell_type": "code",
      "execution_count": 1,
      "metadata": {
        "colab": {
          "base_uri": "https://localhost:8080/"
        },
        "id": "qUj2-IpfW4wA",
        "outputId": "7d0b2b8e-c844-4f37-cef5-2fc043e2f319"
      },
      "outputs": [
        {
          "output_type": "execute_result",
          "data": {
            "text/plain": [
              "1.8181818181818181"
            ]
          },
          "metadata": {},
          "execution_count": 1
        }
      ],
      "source": [
        "(50 - 5*6)/11\n"
      ]
    },
    {
      "cell_type": "code",
      "execution_count": 2,
      "metadata": {
        "colab": {
          "base_uri": "https://localhost:8080/"
        },
        "id": "g0tczVmFW4wB",
        "outputId": "9c6993f3-8934-4de1-b549-ad10fa6d3dad"
      },
      "outputs": [
        {
          "output_type": "execute_result",
          "data": {
            "text/plain": [
              "(float, int)"
            ]
          },
          "metadata": {},
          "execution_count": 2
        }
      ],
      "source": [
        "type(5.0), type(5)\n"
      ]
    },
    {
      "cell_type": "markdown",
      "source": [
        "En python, se reconoce cuando un numero es de tipo entero, *int* , o cuando tiene numeros decimales, *float*"
      ],
      "metadata": {
        "id": "gUZp9s1wb5Kd"
      }
    },
    {
      "cell_type": "code",
      "execution_count": 5,
      "metadata": {
        "id": "s665Ci8GW4wC",
        "colab": {
          "base_uri": "https://localhost:8080/"
        },
        "outputId": "3e9e4121-912a-4bf6-a006-a12cc34d25c6"
      },
      "outputs": [
        {
          "output_type": "execute_result",
          "data": {
            "text/plain": [
              "(10.0, float)"
            ]
          },
          "metadata": {},
          "execution_count": 5
        }
      ],
      "source": [
        "a=6 + (8/2)\n",
        "a, type(a)"
      ]
    },
    {
      "cell_type": "code",
      "execution_count": 6,
      "metadata": {
        "id": "l156SPRuW4wC",
        "colab": {
          "base_uri": "https://localhost:8080/"
        },
        "outputId": "01b293f3-139c-4e1b-f154-29b8f27b4979"
      },
      "outputs": [
        {
          "output_type": "execute_result",
          "data": {
            "text/plain": [
              "True"
            ]
          },
          "metadata": {},
          "execution_count": 6
        }
      ],
      "source": [
        "4 == 4.0"
      ]
    },
    {
      "cell_type": "code",
      "execution_count": 7,
      "metadata": {
        "id": "h3nO30VLW4wD",
        "colab": {
          "base_uri": "https://localhost:8080/"
        },
        "outputId": "034f195b-f704-4fbf-eaba-1d8f61052757"
      },
      "outputs": [
        {
          "output_type": "execute_result",
          "data": {
            "text/plain": [
              "3.3333333333333335"
            ]
          },
          "metadata": {},
          "execution_count": 7
        }
      ],
      "source": [
        "10/3"
      ]
    },
    {
      "cell_type": "code",
      "execution_count": 14,
      "metadata": {
        "id": "MT38fvKtW4wD",
        "colab": {
          "base_uri": "https://localhost:8080/"
        },
        "outputId": "61770c59-0153-48df-d3e6-ee124465c02f"
      },
      "outputs": [
        {
          "output_type": "execute_result",
          "data": {
            "text/plain": [
              "(10.000000000000002, float, 10, sympy.core.numbers.Integer)"
            ]
          },
          "metadata": {},
          "execution_count": 14
        }
      ],
      "source": [
        "from sympy import *\n",
        "a=(10**(1/2))**2\n",
        "b=sqrt((10))**2\n",
        "a, type(a), b, type(b)"
      ]
    },
    {
      "cell_type": "code",
      "execution_count": 15,
      "metadata": {
        "id": "Gby46PiqW4wE",
        "colab": {
          "base_uri": "https://localhost:8080/"
        },
        "outputId": "8efccefb-f089-428a-b43a-f40e299523ec"
      },
      "outputs": [
        {
          "output_type": "execute_result",
          "data": {
            "text/plain": [
              "True"
            ]
          },
          "metadata": {},
          "execution_count": 15
        }
      ],
      "source": [
        "10.0000000000000000000000000000000001 == 10"
      ]
    },
    {
      "cell_type": "code",
      "execution_count": 16,
      "metadata": {
        "id": "iQcXNLg2W4wF",
        "colab": {
          "base_uri": "https://localhost:8080/"
        },
        "outputId": "e6592823-9860-4700-b286-e6b1b5e0868f"
      },
      "outputs": [
        {
          "output_type": "execute_result",
          "data": {
            "text/plain": [
              "True"
            ]
          },
          "metadata": {},
          "execution_count": 16
        }
      ],
      "source": [
        "from sympy import sqrt\n",
        "\n",
        "sqrt(8)**2 == 8"
      ]
    },
    {
      "cell_type": "markdown",
      "metadata": {
        "id": "EneVQ9Q9W4wF"
      },
      "source": [
        "División con dos diagonales da división entera:\n",
        "Es como sacara un modulo\n"
      ]
    },
    {
      "cell_type": "code",
      "execution_count": 22,
      "metadata": {
        "id": "lM_DNWEDW4wG",
        "colab": {
          "base_uri": "https://localhost:8080/"
        },
        "outputId": "4a0348d5-23d9-4c36-df8f-6287bdfde937"
      },
      "outputs": [
        {
          "output_type": "execute_result",
          "data": {
            "text/plain": [
              "4"
            ]
          },
          "metadata": {},
          "execution_count": 22
        }
      ],
      "source": [
        "23 // 5"
      ]
    },
    {
      "cell_type": "markdown",
      "source": [
        "a // b , significa a en modulo b es c , donde c es el numero que regresa el comando a // b"
      ],
      "metadata": {
        "id": "mJ09gnhkdx4m"
      }
    },
    {
      "cell_type": "code",
      "execution_count": 19,
      "metadata": {
        "id": "LRgaYHiUW4wG",
        "colab": {
          "base_uri": "https://localhost:8080/"
        },
        "outputId": "9c64f397-1a1a-4746-bbce-a4be4ba22b5b"
      },
      "outputs": [
        {
          "output_type": "execute_result",
          "data": {
            "text/plain": [
              "int"
            ]
          },
          "metadata": {},
          "execution_count": 19
        }
      ],
      "source": [
        "type(23 // 5)"
      ]
    },
    {
      "cell_type": "code",
      "execution_count": 21,
      "metadata": {
        "id": "P4ll1f7HW4wG",
        "colab": {
          "base_uri": "https://localhost:8080/"
        },
        "outputId": "6c30fc76-7b8a-4dd0-b2bf-20ba7893f8a7"
      },
      "outputs": [
        {
          "output_type": "execute_result",
          "data": {
            "text/plain": [
              "3"
            ]
          },
          "metadata": {},
          "execution_count": 21
        }
      ],
      "source": [
        "23 % 5"
      ]
    },
    {
      "cell_type": "code",
      "execution_count": 23,
      "metadata": {
        "id": "8T_LNAXbW4wH",
        "colab": {
          "base_uri": "https://localhost:8080/"
        },
        "outputId": "d3face8e-7172-4915-931b-e4dc39b948e6"
      },
      "outputs": [
        {
          "output_type": "execute_result",
          "data": {
            "text/plain": [
              "100"
            ]
          },
          "metadata": {},
          "execution_count": 23
        }
      ],
      "source": [
        "width = 20\n",
        "height = 5\n",
        "width * height"
      ]
    },
    {
      "cell_type": "code",
      "execution_count": 24,
      "metadata": {
        "id": "mqwH7PJYW4wH",
        "colab": {
          "base_uri": "https://localhost:8080/"
        },
        "outputId": "787d658b-caf0-4ad8-f19e-15258566b3de"
      },
      "outputs": [
        {
          "output_type": "execute_result",
          "data": {
            "text/plain": [
              "100"
            ]
          },
          "metadata": {},
          "execution_count": 24
        }
      ],
      "source": [
        "area_rectangle = width*height\n",
        "area_rectangle"
      ]
    },
    {
      "cell_type": "markdown",
      "source": [
        "La libreria *fractions* tiene la funcion *Fraction* que convierte a un par de numeros en una fraccion tal cual, i.e., *Fraction(1,2)=$1/2$*"
      ],
      "metadata": {
        "id": "OH-a8nZye0t0"
      }
    },
    {
      "cell_type": "code",
      "execution_count": 25,
      "metadata": {
        "id": "76z1tgiLW4wH",
        "colab": {
          "base_uri": "https://localhost:8080/"
        },
        "outputId": "2058417e-d0f7-46dc-881d-7d913105c71d"
      },
      "outputs": [
        {
          "output_type": "execute_result",
          "data": {
            "text/plain": [
              "Fraction(23, 6)"
            ]
          },
          "metadata": {},
          "execution_count": 25
        }
      ],
      "source": [
        "from fractions import Fraction\n",
        "\n",
        "Fraction(1, 2) + Fraction(1, 3) + 3"
      ]
    },
    {
      "cell_type": "code",
      "execution_count": 26,
      "metadata": {
        "id": "zY4cpR3sW4wI",
        "colab": {
          "base_uri": "https://localhost:8080/"
        },
        "outputId": "feae0b94-5708-4033-a21d-aed78006581b"
      },
      "outputs": [
        {
          "output_type": "execute_result",
          "data": {
            "text/plain": [
              "fractions.Fraction"
            ]
          },
          "metadata": {},
          "execution_count": 26
        }
      ],
      "source": [
        "type(Fraction(1,2))"
      ]
    },
    {
      "cell_type": "code",
      "execution_count": 27,
      "metadata": {
        "id": "IQksI1w3W4wI",
        "colab": {
          "base_uri": "https://localhost:8080/"
        },
        "outputId": "26991b51-f929-441d-b56b-ae2253c13908"
      },
      "outputs": [
        {
          "output_type": "execute_result",
          "data": {
            "text/plain": [
              "0.8333333333333333"
            ]
          },
          "metadata": {},
          "execution_count": 27
        }
      ],
      "source": [
        "1/2 + 1/3"
      ]
    },
    {
      "cell_type": "code",
      "execution_count": 28,
      "metadata": {
        "id": "Q4YWlLtiW4wI",
        "colab": {
          "base_uri": "https://localhost:8080/"
        },
        "outputId": "fa5559c1-156a-4385-840a-9a73ca2e6199"
      },
      "outputs": [
        {
          "output_type": "execute_result",
          "data": {
            "text/plain": [
              "(-0.2-2.6j)"
            ]
          },
          "metadata": {},
          "execution_count": 28
        }
      ],
      "source": [
        "(3+5j)/(-2+1j)"
      ]
    },
    {
      "cell_type": "markdown",
      "metadata": {
        "id": "3Ww8BPrcW4wI"
      },
      "source": [
        "## Cadenas\n",
        "\n"
      ]
    },
    {
      "cell_type": "code",
      "execution_count": 30,
      "metadata": {
        "id": "vmDo7yEGW4wI",
        "colab": {
          "base_uri": "https://localhost:8080/",
          "height": 35
        },
        "outputId": "5998a969-6307-4093-b886-b62331fc306a"
      },
      "outputs": [
        {
          "output_type": "execute_result",
          "data": {
            "text/plain": [
              "'hola mundo'"
            ],
            "application/vnd.google.colaboratory.intrinsic+json": {
              "type": "string"
            }
          },
          "metadata": {},
          "execution_count": 30
        }
      ],
      "source": [
        "greeting = \"hola \"+\"mundo\"\n",
        "greeting"
      ]
    },
    {
      "cell_type": "code",
      "execution_count": 31,
      "metadata": {
        "id": "CvkQkDCIW4wJ",
        "colab": {
          "base_uri": "https://localhost:8080/",
          "height": 35
        },
        "outputId": "5e9f730f-23c5-4620-e751-ff056b595e8c"
      },
      "outputs": [
        {
          "output_type": "execute_result",
          "data": {
            "text/plain": [
              "'n'"
            ],
            "application/vnd.google.colaboratory.intrinsic+json": {
              "type": "string"
            }
          },
          "metadata": {},
          "execution_count": 31
        }
      ],
      "source": [
        "greeting[-3]"
      ]
    },
    {
      "cell_type": "code",
      "execution_count": 32,
      "metadata": {
        "id": "y33BjUE4W4wJ",
        "colab": {
          "base_uri": "https://localhost:8080/"
        },
        "outputId": "05b1effd-ea8c-47a4-cba1-45447a133cbf"
      },
      "outputs": [
        {
          "output_type": "stream",
          "name": "stdout",
          "text": [
            "\"Hola\"\n",
            "they said.\n"
          ]
        }
      ],
      "source": [
        "a='\"Hola\"\\nthey said.'\n",
        "print(a)"
      ]
    },
    {
      "cell_type": "code",
      "execution_count": 33,
      "metadata": {
        "id": "uedk2d0VW4wJ",
        "colab": {
          "base_uri": "https://localhost:8080/"
        },
        "outputId": "b8c316ac-a965-4f90-b39c-5a6c5259a116"
      },
      "outputs": [
        {
          "output_type": "stream",
          "name": "stdout",
          "text": [
            "C:\\some\n",
            "ame\n"
          ]
        }
      ],
      "source": [
        "print('C:\\some\\name')"
      ]
    },
    {
      "cell_type": "markdown",
      "metadata": {
        "id": "X3cb9AXIW4wK"
      },
      "source": [
        "Si ponemos una `r` antes de la cadena, eso le quita el significado especial a la combinación `\\n`. (`r` significa `raw`.)\n",
        "\n"
      ]
    },
    {
      "cell_type": "code",
      "execution_count": 34,
      "metadata": {
        "id": "asEES-RNW4wK",
        "colab": {
          "base_uri": "https://localhost:8080/"
        },
        "outputId": "00b8493d-cdee-4968-b8c6-30a94947ce1d"
      },
      "outputs": [
        {
          "output_type": "stream",
          "name": "stdout",
          "text": [
            "C:\\some\\name\n"
          ]
        }
      ],
      "source": [
        "print(r'C:\\some\\name')"
      ]
    },
    {
      "cell_type": "code",
      "execution_count": 35,
      "metadata": {
        "id": "cKwlTUhnW4wK",
        "colab": {
          "base_uri": "https://localhost:8080/"
        },
        "outputId": "0d47dcab-6b39-4795-f736-5a51dfae800d"
      },
      "outputs": [
        {
          "output_type": "stream",
          "name": "stdout",
          "text": [
            "Esto es una cadena\n",
            "      Que quiero que salga\n",
            "              exactamente así\n",
            "   \n"
          ]
        }
      ],
      "source": [
        "print(\"\"\"\\\n",
        "Esto es una cadena\n",
        "      Que quiero que salga\n",
        "              exactamente así\n",
        "   \"\"\")"
      ]
    },
    {
      "cell_type": "code",
      "execution_count": 36,
      "metadata": {
        "id": "m0N_16kBW4wK",
        "colab": {
          "base_uri": "https://localhost:8080/"
        },
        "outputId": "97c3a3c3-e8e3-4516-b5f2-c099783dfabf"
      },
      "outputs": [
        {
          "output_type": "stream",
          "name": "stdout",
          "text": [
            "\n",
            "Esto es una cadena\n",
            "   Que quiero que salga\n",
            "   exactamente así\n",
            "\n"
          ]
        }
      ],
      "source": [
        "print(\"\\nEsto es una cadena\\n   Que quiero que salga\\n   exactamente así\\n\")"
      ]
    },
    {
      "cell_type": "markdown",
      "metadata": {
        "id": "E6VfszOvW4wK"
      },
      "source": [
        "## Índices en las cadenas\n",
        "\n"
      ]
    },
    {
      "cell_type": "code",
      "execution_count": 37,
      "metadata": {
        "id": "xnZHj7Y_W4wL",
        "colab": {
          "base_uri": "https://localhost:8080/"
        },
        "outputId": "e980f5ba-1acc-43ca-ba5f-42e280d5c9cc"
      },
      "outputs": [
        {
          "output_type": "execute_result",
          "data": {
            "text/plain": [
              "('u', 'n')"
            ]
          },
          "metadata": {},
          "execution_count": 37
        }
      ],
      "source": [
        "word = 'Jupyter-Python'\n",
        "word[1], word[-1]"
      ]
    },
    {
      "cell_type": "code",
      "execution_count": 38,
      "metadata": {
        "id": "BYFNQ-fvW4wL",
        "colab": {
          "base_uri": "https://localhost:8080/"
        },
        "outputId": "1a27f8cd-c7fa-4e37-c1b0-c267cdbb3548"
      },
      "outputs": [
        {
          "output_type": "execute_result",
          "data": {
            "text/plain": [
              "14"
            ]
          },
          "metadata": {},
          "execution_count": 38
        }
      ],
      "source": [
        "len(word)"
      ]
    },
    {
      "cell_type": "code",
      "execution_count": 39,
      "metadata": {
        "id": "vt9bP0CjW4wL",
        "colab": {
          "base_uri": "https://localhost:8080/",
          "height": 35
        },
        "outputId": "1d7f441d-17f3-454a-ca36-6e35b27e63de"
      },
      "outputs": [
        {
          "output_type": "execute_result",
          "data": {
            "text/plain": [
              "'upy'"
            ],
            "application/vnd.google.colaboratory.intrinsic+json": {
              "type": "string"
            }
          },
          "metadata": {},
          "execution_count": 39
        }
      ],
      "source": [
        "word[1:4]"
      ]
    },
    {
      "cell_type": "markdown",
      "metadata": {
        "id": "fL9AqRFFW4wL"
      },
      "source": [
        "## Las cadenas son inmutables\n",
        "\n"
      ]
    },
    {
      "cell_type": "code",
      "execution_count": 42,
      "metadata": {
        "id": "eRG5IGNHW4wL",
        "colab": {
          "base_uri": "https://localhost:8080/"
        },
        "outputId": "e6a68ee0-1862-4d7e-817e-67ed140957a6"
      },
      "outputs": [
        {
          "output_type": "execute_result",
          "data": {
            "text/plain": [
              "str"
            ]
          },
          "metadata": {},
          "execution_count": 42
        }
      ],
      "source": [
        "type(word)"
      ]
    },
    {
      "cell_type": "code",
      "execution_count": 45,
      "metadata": {
        "id": "XgN4FElpW4wL",
        "colab": {
          "base_uri": "https://localhost:8080/",
          "height": 193
        },
        "outputId": "be497376-cdd6-4251-cf99-74edd0720fa3"
      },
      "outputs": [
        {
          "output_type": "error",
          "ename": "TypeError",
          "evalue": "ignored",
          "traceback": [
            "\u001b[0;31m---------------------------------------------------------------------------\u001b[0m",
            "\u001b[0;31mTypeError\u001b[0m                                 Traceback (most recent call last)",
            "\u001b[0;32m<ipython-input-45-6930a392a654>\u001b[0m in \u001b[0;36m<cell line: 2>\u001b[0;34m()\u001b[0m\n\u001b[1;32m      1\u001b[0m \u001b[0mpalabra\u001b[0m \u001b[0;34m=\u001b[0m \u001b[0;34m\"Jupyter-Python\"\u001b[0m\u001b[0;34m\u001b[0m\u001b[0;34m\u001b[0m\u001b[0m\n\u001b[0;32m----> 2\u001b[0;31m \u001b[0mpalabra\u001b[0m\u001b[0;34m[\u001b[0m\u001b[0;36m0\u001b[0m\u001b[0;34m]\u001b[0m \u001b[0;34m=\u001b[0m \u001b[0;34m'j'\u001b[0m\u001b[0;34m\u001b[0m\u001b[0;34m\u001b[0m\u001b[0m\n\u001b[0m",
            "\u001b[0;31mTypeError\u001b[0m: 'str' object does not support item assignment"
          ]
        }
      ],
      "source": [
        "palabra = \"Jupyter-Python\"\n",
        "palabra[0] = 'j'"
      ]
    },
    {
      "cell_type": "markdown",
      "source": [
        "Marca un error el comando anterior ya que las cadenas son inmutables, no se pueden cambiar ni modificar"
      ],
      "metadata": {
        "id": "qW88qyvpm3sy"
      }
    },
    {
      "cell_type": "markdown",
      "source": [
        "Sin embargo, se les puede agregar otro objeto, creando una nueva cadena con la cadena ya creada y sumando otra cadena nueva, como se muestra a continuacion"
      ],
      "metadata": {
        "id": "gY3Ha3m3nCrQ"
      }
    },
    {
      "cell_type": "code",
      "execution_count": 47,
      "metadata": {
        "id": "A4N-O9fwW4wL",
        "colab": {
          "base_uri": "https://localhost:8080/",
          "height": 35
        },
        "outputId": "83b04fee-a0ee-4327-f8f9-89ea4133d61f"
      },
      "outputs": [
        {
          "output_type": "execute_result",
          "data": {
            "text/plain": [
              "'Jupyter-Python es interesante es interesante'"
            ],
            "application/vnd.google.colaboratory.intrinsic+json": {
              "type": "string"
            }
          },
          "metadata": {},
          "execution_count": 47
        }
      ],
      "source": [
        "palabra = palabra + \" es interesante\"\n",
        "palabra"
      ]
    },
    {
      "cell_type": "code",
      "execution_count": 48,
      "metadata": {
        "id": "u5i0CEsBW4wM",
        "colab": {
          "base_uri": "https://localhost:8080/"
        },
        "outputId": "ff794683-77c2-41b2-c97b-7e2264583804"
      },
      "outputs": [
        {
          "output_type": "execute_result",
          "data": {
            "text/plain": [
              "5"
            ]
          },
          "metadata": {},
          "execution_count": 48
        }
      ],
      "source": [
        "palabra = palabra + \" es interesante\"\n",
        "palabra = 5\n",
        "palabra"
      ]
    },
    {
      "cell_type": "markdown",
      "metadata": {
        "id": "ExjtYOYEW4wM"
      },
      "source": [
        "## Ejercicio\n",
        "\n"
      ]
    },
    {
      "cell_type": "markdown",
      "metadata": {
        "id": "4we1cJgfW4wM"
      },
      "source": [
        "Usando Python, encuentra el exponente $n$ más pequeño de tal manera que el número complejo $(3+4i)^{n}$ tenga módulo mayor que 100.\n",
        "\n"
      ]
    },
    {
      "cell_type": "code",
      "execution_count": 49,
      "metadata": {
        "id": "rctzbj8SW4wM",
        "colab": {
          "base_uri": "https://localhost:8080/"
        },
        "outputId": "09e1579a-b335-48b7-d907-b3e7d28ee971"
      },
      "outputs": [
        {
          "output_type": "execute_result",
          "data": {
            "text/plain": [
              "5.0"
            ]
          },
          "metadata": {},
          "execution_count": 49
        }
      ],
      "source": [
        "abs(3+4j)"
      ]
    },
    {
      "cell_type": "code",
      "execution_count": 52,
      "metadata": {
        "id": "e2PETLxLW4wM",
        "colab": {
          "base_uri": "https://localhost:8080/",
          "height": 175
        },
        "outputId": "aa097696-9581-42c3-af86-7cdbaa0ff422"
      },
      "outputs": [
        {
          "output_type": "error",
          "ename": "TypeError",
          "evalue": "ignored",
          "traceback": [
            "\u001b[0;31m---------------------------------------------------------------------------\u001b[0m",
            "\u001b[0;31mTypeError\u001b[0m                                 Traceback (most recent call last)",
            "\u001b[0;32m<ipython-input-52-232c006ebcc0>\u001b[0m in \u001b[0;36m<cell line: 1>\u001b[0;34m()\u001b[0m\n\u001b[0;32m----> 1\u001b[0;31m \u001b[0;34m(\u001b[0m\u001b[0;36m3\u001b[0m\u001b[0;34m+\u001b[0m\u001b[0;36m4j\u001b[0m\u001b[0;34m)\u001b[0m \u001b[0;34m//\u001b[0m \u001b[0;36m10j\u001b[0m\u001b[0;34m\u001b[0m\u001b[0;34m\u001b[0m\u001b[0m\n\u001b[0m",
            "\u001b[0;31mTypeError\u001b[0m: unsupported operand type(s) for //: 'complex' and 'complex'"
          ]
        }
      ],
      "source": [
        "(3+4j) // 10j"
      ]
    }
  ],
  "metadata": {
    "kernelspec": {
      "display_name": "Python 3",
      "language": "python",
      "name": "python3"
    },
    "language_info": {
      "codemirror_mode": {
        "name": "ipython",
        "version": 3
      },
      "file_extension": ".py",
      "mimetype": "text/x-python",
      "name": "python",
      "nbconvert_exporter": "python",
      "pygments_lexer": "ipython3",
      "version": "3.9.2"
    },
    "org": null,
    "colab": {
      "provenance": [],
      "include_colab_link": true
    }
  },
  "nbformat": 4,
  "nbformat_minor": 0
}