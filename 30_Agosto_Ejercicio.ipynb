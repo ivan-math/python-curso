{
  "nbformat": 4,
  "nbformat_minor": 0,
  "metadata": {
    "colab": {
      "provenance": [],
      "authorship_tag": "ABX9TyMN9jrg87UCwwVDaoPQg0vD",
      "include_colab_link": true
    },
    "kernelspec": {
      "name": "python3",
      "display_name": "Python 3"
    },
    "language_info": {
      "name": "python"
    }
  },
  "cells": [
    {
      "cell_type": "markdown",
      "metadata": {
        "id": "view-in-github",
        "colab_type": "text"
      },
      "source": [
        "<a href=\"https://colab.research.google.com/github/ivan-math/python-curso/blob/main/30_Agosto_Ejercicio.ipynb\" target=\"_parent\"><img src=\"https://colab.research.google.com/assets/colab-badge.svg\" alt=\"Open In Colab\"/></a>"
      ]
    },
    {
      "cell_type": "markdown",
      "source": [
        "#Ejercicios\n",
        "###30 de agosto"
      ],
      "metadata": {
        "id": "3B6XQ1Y9DuKH"
      }
    },
    {
      "cell_type": "markdown",
      "source": [
        "Define una función tal que, dados argumentos: cantidad y rango (dos enteros positivos), regrese un conjunto con cantidad números enteros aleatorios, que pueden estar entre -rango y rango."
      ],
      "metadata": {
        "id": "LlszRm93I_-A"
      }
    },
    {
      "cell_type": "code",
      "source": [
        "from random import randint\n",
        "\n",
        "def numerosAleatorios(numero, cantidad):\n",
        "    return {randint(-cantidad, cantidad) for i in range(numero)}\n",
        "\n",
        "a=numerosAleatorios(10,100)\n",
        "a"
      ],
      "metadata": {
        "colab": {
          "base_uri": "https://localhost:8080/"
        },
        "id": "oOetA860KSk1",
        "outputId": "5edbed39-afec-4837-b337-776ad50bba47"
      },
      "execution_count": 11,
      "outputs": [
        {
          "output_type": "execute_result",
          "data": {
            "text/plain": [
              "{-68, -11, -3, 3, 17, 23, 56, 66, 73, 88}"
            ]
          },
          "metadata": {},
          "execution_count": 11
        }
      ]
    },
    {
      "cell_type": "markdown",
      "source": [
        "Define ahora una función tal que, dado un conjunto de números enteros, regrese un subconjunto del conjunto tal que la suma de los elementos del subconjunto sea 0. Si no existe tal conjunto, la función debe regresar False."
      ],
      "metadata": {
        "id": "7ns5yFOyQftI"
      }
    },
    {
      "cell_type": "code",
      "execution_count": 12,
      "metadata": {
        "id": "XXf1k8AzSUa8",
        "colab": {
          "base_uri": "https://localhost:8080/"
        },
        "outputId": "65cd99fd-6f3c-441c-9878-d9c350fa3897"
      },
      "outputs": [
        {
          "output_type": "execute_result",
          "data": {
            "text/plain": [
              "(3, -3)"
            ]
          },
          "metadata": {},
          "execution_count": 12
        }
      ],
      "source": [
        "from itertools import combinations\n",
        "\n",
        "def zero_suma(conjunto):\n",
        "    for i in range (1, len(conjunto)+1):\n",
        "        for subset in combinations(conjunto, i):\n",
        "            if sum(subset) == 0:\n",
        "                return subset\n",
        "    return False\n",
        "\n",
        "zero_suma(a)"
      ]
    }
  ]
}