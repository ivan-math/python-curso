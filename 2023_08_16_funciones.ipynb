{
  "cells": [
    {
      "cell_type": "markdown",
      "metadata": {
        "id": "view-in-github",
        "colab_type": "text"
      },
      "source": [
        "<a href=\"https://colab.research.google.com/github/ivan-math/python-curso/blob/main/2023_08_16_funciones.ipynb\" target=\"_parent\"><img src=\"https://colab.research.google.com/assets/colab-badge.svg\" alt=\"Open In Colab\"/></a>"
      ]
    },
    {
      "cell_type": "markdown",
      "metadata": {
        "id": "zjpRcwklReLx"
      },
      "source": [
        "Funciones\n",
        "=========\n",
        "\n",
        "**Date:** 2023-08-16\n",
        "\n"
      ]
    },
    {
      "cell_type": "markdown",
      "metadata": {
        "id": "B71tCo3OReLx"
      },
      "source": [
        "## Funciones\n",
        "\n"
      ]
    },
    {
      "cell_type": "code",
      "execution_count": 1,
      "metadata": {
        "colab": {
          "base_uri": "https://localhost:8080/"
        },
        "id": "6v-PPTaDReLy",
        "outputId": "beab9646-45a9-40fb-95d2-f9a6041e5b57"
      },
      "outputs": [
        {
          "output_type": "execute_result",
          "data": {
            "text/plain": [
              "['Juan Diego', 'Verania', 'Rosa', 'Yessica', 'Karen', 'Uriel', 'Ruth']"
            ]
          },
          "metadata": {},
          "execution_count": 1
        }
      ],
      "source": [
        "inscritos = [\"Juan Diego\", \"Verania\", \"Rosa\", \"Yessica\", \"Karen\"]\n",
        "oyentes = [\"Uriel\", \"Ruth\"]\n",
        "estudiantes = inscritos + oyentes\n",
        "estudiantes"
      ]
    },
    {
      "cell_type": "code",
      "execution_count": 7,
      "metadata": {
        "colab": {
          "base_uri": "https://localhost:8080/"
        },
        "id": "CqAX-Jf5ReLy",
        "outputId": "ee9ade10-4b87-4e33-dd2d-8d3ef5bc084f"
      },
      "outputs": [
        {
          "output_type": "execute_result",
          "data": {
            "text/plain": [
              "9.869604401089358"
            ]
          },
          "metadata": {},
          "execution_count": 7
        }
      ],
      "source": [
        "from math import *\n",
        "cuadrado = 25\n",
        "\n",
        "def cuadrado(n):\n",
        "    return n**2\n",
        "\n",
        "cuadrado(pi)"
      ]
    },
    {
      "cell_type": "code",
      "execution_count": 11,
      "metadata": {
        "colab": {
          "base_uri": "https://localhost:8080/"
        },
        "id": "ap7FljrOReLz",
        "outputId": "559cf4d3-e8d6-410d-b42c-438f5465265b"
      },
      "outputs": [
        {
          "output_type": "execute_result",
          "data": {
            "text/plain": [
              "('¡Hola, Ivan! ¿Cómo estás?', '¿Qué materias llevas, Ivan?')"
            ]
          },
          "metadata": {},
          "execution_count": 11
        }
      ],
      "source": [
        "def saludo(persona):\n",
        "    return \"¡Hola, \" + persona + \"! ¿Cómo estás?\"\n",
        "\n",
        "def materias(persona):\n",
        "    return \"¿Qué materias llevas, \" + persona + \"?\"\n",
        "\n",
        "saludo(\"Ivan\"), materias('Ivan')"
      ]
    },
    {
      "cell_type": "code",
      "execution_count": 10,
      "metadata": {
        "colab": {
          "base_uri": "https://localhost:8080/"
        },
        "id": "GXWQyLchReLz",
        "outputId": "36403715-add4-4111-c5c7-3ff345b7e98a"
      },
      "outputs": [
        {
          "output_type": "stream",
          "name": "stdout",
          "text": [
            "¡Hola, Juan Diego! ¿Cómo estás?\n",
            "¿Qué materias llevas, Juan Diego?\n",
            "\n",
            "¡Hola, Verania! ¿Cómo estás?\n",
            "¿Qué materias llevas, Verania?\n",
            "\n",
            "¡Hola, Rosa! ¿Cómo estás?\n",
            "¿Qué materias llevas, Rosa?\n",
            "\n",
            "¡Hola, Yessica! ¿Cómo estás?\n",
            "¿Qué materias llevas, Yessica?\n",
            "\n",
            "¡Hola, Karen! ¿Cómo estás?\n",
            "¿Qué materias llevas, Karen?\n",
            "\n",
            "¡Hola, Uriel! ¿Cómo estás?\n",
            "¿Qué materias llevas, Uriel?\n",
            "\n",
            "¡Hola, Ruth! ¿Cómo estás?\n",
            "¿Qué materias llevas, Ruth?\n",
            "\n"
          ]
        }
      ],
      "source": [
        "for estudiante in estudiantes:\n",
        "    print(saludo(estudiante))\n",
        "    print(materias(estudiante))\n",
        "    print()"
      ]
    },
    {
      "cell_type": "code",
      "execution_count": 13,
      "metadata": {
        "colab": {
          "base_uri": "https://localhost:8080/"
        },
        "id": "R8JJ5BsVReL0",
        "outputId": "c280739d-2e9c-4777-bd6d-da80b21e68cc"
      },
      "outputs": [
        {
          "output_type": "execute_result",
          "data": {
            "text/plain": [
              "[0,\n",
              " 1,\n",
              " 1,\n",
              " 2,\n",
              " 3,\n",
              " 5,\n",
              " 8,\n",
              " 13,\n",
              " 21,\n",
              " 34,\n",
              " 55,\n",
              " 89,\n",
              " 144,\n",
              " 233,\n",
              " 377,\n",
              " 610,\n",
              " 987,\n",
              " 1597,\n",
              " 2584,\n",
              " 4181,\n",
              " 6765]"
            ]
          },
          "metadata": {},
          "execution_count": 13
        }
      ],
      "source": [
        "def cuadrados_fibonacci(n):\n",
        "    fibs = []\n",
        "    a, b = 0, 1\n",
        "    while a < n:\n",
        "        fibs.append(a)\n",
        "        a, b = b, a+b\n",
        "    return fibs\n",
        "\n",
        "cuadrados_fibonacci(10000)"
      ]
    },
    {
      "cell_type": "code",
      "execution_count": 14,
      "metadata": {
        "colab": {
          "base_uri": "https://localhost:8080/"
        },
        "id": "x5RJ4Co2ReL0",
        "outputId": "52e32ce0-c71e-4322-b9a7-374c80661bf2"
      },
      "outputs": [
        {
          "output_type": "execute_result",
          "data": {
            "text/plain": [
              "[0, 1, 4, 9, 16, 25, 36, 49, 64, 81, 100]"
            ]
          },
          "metadata": {},
          "execution_count": 14
        }
      ],
      "source": [
        "def cuadrados(n):\n",
        "    cua = []\n",
        "    for i in range(n):\n",
        "        if i**2 <= n:\n",
        "            cua.append(i**2)\n",
        "        else:\n",
        "            break\n",
        "    return cua\n",
        "\n",
        "cuadrados(100)"
      ]
    },
    {
      "cell_type": "markdown",
      "source": [
        "la funcion *int* da el entero del numero flotante dado"
      ],
      "metadata": {
        "id": "yHJR-oaRUezW"
      }
    },
    {
      "cell_type": "code",
      "execution_count": 15,
      "metadata": {
        "colab": {
          "base_uri": "https://localhost:8080/"
        },
        "id": "PWfYiChfReL1",
        "outputId": "2d64b554-8de9-4f6d-d818-077a816b9e53"
      },
      "outputs": [
        {
          "output_type": "execute_result",
          "data": {
            "text/plain": [
              "4"
            ]
          },
          "metadata": {},
          "execution_count": 15
        }
      ],
      "source": [
        "int(4.999999999)"
      ]
    },
    {
      "cell_type": "code",
      "execution_count": 16,
      "metadata": {
        "colab": {
          "base_uri": "https://localhost:8080/"
        },
        "id": "iDyZ-XOrReL2",
        "outputId": "a0c2ed2f-6246-498b-9e95-39fa3ec404ae"
      },
      "outputs": [
        {
          "output_type": "execute_result",
          "data": {
            "text/plain": [
              "(True, False, True)"
            ]
          },
          "metadata": {},
          "execution_count": 16
        }
      ],
      "source": [
        "from sympy import sqrt\n",
        "\n",
        "def es_cuadrado(n):\n",
        "    if int(sqrt(n)) ** 2 == n:\n",
        "        return True\n",
        "    else:\n",
        "        return False\n",
        "\n",
        "es_cuadrado(25), es_cuadrado(20), es_cuadrado(99999999222222222**2)"
      ]
    },
    {
      "cell_type": "code",
      "execution_count": 44,
      "metadata": {
        "colab": {
          "base_uri": "https://localhost:8080/"
        },
        "id": "Hm-UvuUoReL2",
        "outputId": "5d4a78b6-0ba8-446a-c22a-c0f34117c63d"
      },
      "outputs": [
        {
          "output_type": "execute_result",
          "data": {
            "text/plain": [
              "[0, 1, 1, 144]"
            ]
          },
          "metadata": {},
          "execution_count": 44
        }
      ],
      "source": [
        "from sympy import sqrt\n",
        "\n",
        "def es_cuadrado(n):\n",
        "    return int(sqrt(n)) ** 2 == n\n",
        "\n",
        "def cuadrados_fibonacci(n):\n",
        "    fibs = []\n",
        "    a, b = 0, 1\n",
        "    while a < n:\n",
        "        if es_cuadrado(a):\n",
        "            fibs.append(a)\n",
        "        a, b = b, a+b\n",
        "    return fibs\n",
        "\n",
        "cuadrados_fibonacci(10000000000000000000000000000000000000000000)"
      ]
    },
    {
      "cell_type": "code",
      "execution_count": 26,
      "metadata": {
        "colab": {
          "base_uri": "https://localhost:8080/"
        },
        "id": "hPpR1RNlReL3",
        "outputId": "2ab11a74-05ec-4e77-d6d8-7d53eda90b0c"
      },
      "outputs": [
        {
          "output_type": "stream",
          "name": "stdout",
          "text": [
            "-- ¡Qué top que viene por aquí!\n",
            "-- Vine a traerle este humilde plato vacio y parcialmente roto\n",
            "-- ¿No quiere pasar a tomar un energetizante para que lo tome con vos?\n"
          ]
        }
      ],
      "source": [
        "def diálogo(evento, objeto, bebida):\n",
        "    print(f\"-- ¡Qué {evento} que viene por aquí!\")\n",
        "    print(f\"-- Vine a traerle este humilde {objeto}\")\n",
        "    print(f\"-- ¿No quiere pasar a tomar {bebida}?\")\n",
        "\n",
        "diálogo(\"top\", \"plato vacio y parcialmente roto\", \"un energetizante para que lo tome con vos\")"
      ]
    },
    {
      "cell_type": "code",
      "execution_count": 27,
      "metadata": {
        "colab": {
          "base_uri": "https://localhost:8080/"
        },
        "id": "1fAy6NgcReL3",
        "outputId": "d13eecd3-ea35-4250-a617-f0ee4c378305"
      },
      "outputs": [
        {
          "output_type": "stream",
          "name": "stdout",
          "text": [
            "-- ¡Qué casualidad que viene por aquí!\n",
            "-- Vine a traerle este humilde regalo\n",
            "-- ¿No quiere pasar a tomar un té?\n"
          ]
        }
      ],
      "source": [
        "diálogo(\"casualidad\", \"regalo\", \"un té\")"
      ]
    },
    {
      "cell_type": "code",
      "execution_count": 28,
      "metadata": {
        "colab": {
          "base_uri": "https://localhost:8080/"
        },
        "id": "BSEfiY1EReL3",
        "outputId": "85560c13-3dda-4621-9b3d-cbe83a1a1685"
      },
      "outputs": [
        {
          "output_type": "stream",
          "name": "stdout",
          "text": [
            "-- ¡Qué milagro que viene por aquí!\n",
            "-- Vine a traerle este humilde obsequio\n",
            "-- ¿No quiere pasar a tomar una tacita de café?\n"
          ]
        }
      ],
      "source": [
        "def diálogo(evento=\"milagro\", objeto=\"obsequio\", bebida=\"una tacita de café\"):\n",
        "    print(f\"-- ¡Qué {evento} que viene por aquí!\")\n",
        "    print(f\"-- Vine a traerle este humilde {objeto}\")\n",
        "    print(f\"-- ¿No quiere pasar a tomar {bebida}?\")\n",
        "\n",
        "diálogo()"
      ]
    },
    {
      "cell_type": "code",
      "execution_count": 29,
      "metadata": {
        "colab": {
          "base_uri": "https://localhost:8080/"
        },
        "id": "vf_IDIyfReL4",
        "outputId": "a6e22eab-1925-426e-e6da-c65922d9016e"
      },
      "outputs": [
        {
          "output_type": "stream",
          "name": "stdout",
          "text": [
            "-- ¡Qué casualidad que viene por aquí!\n",
            "-- Vine a traerle este humilde regalo\n",
            "-- ¿No quiere pasar a tomar un té?\n"
          ]
        }
      ],
      "source": [
        "diálogo(\"casualidad\", \"regalo\", \"un té\")"
      ]
    },
    {
      "cell_type": "code",
      "execution_count": 30,
      "metadata": {
        "colab": {
          "base_uri": "https://localhost:8080/"
        },
        "id": "mCdZXr4yReL4",
        "outputId": "12e90610-c80a-46aa-b190-4d64b4443ee2"
      },
      "outputs": [
        {
          "output_type": "stream",
          "name": "stdout",
          "text": [
            "-- ¡Qué sorpresa que viene por aquí!\n",
            "-- Vine a traerle este humilde presente\n",
            "-- ¿No quiere pasar a tomar atole?\n"
          ]
        }
      ],
      "source": [
        "diálogo(bebida=\"atole\", evento=\"sorpresa\", objeto=\"presente\")"
      ]
    },
    {
      "cell_type": "code",
      "execution_count": 31,
      "metadata": {
        "colab": {
          "base_uri": "https://localhost:8080/"
        },
        "id": "nip61sK3ReL4",
        "outputId": "673a9210-02ef-4251-e27c-f09887da48bf"
      },
      "outputs": [
        {
          "output_type": "stream",
          "name": "stdout",
          "text": [
            "-- ¡Qué milagro que viene por aquí!\n",
            "-- Vine a traerle este humilde obsequio\n",
            "-- ¿No quiere pasar a tomar un refresco?\n"
          ]
        }
      ],
      "source": [
        "diálogo(bebida=\"un refresco\")"
      ]
    },
    {
      "cell_type": "code",
      "execution_count": 34,
      "metadata": {
        "colab": {
          "base_uri": "https://localhost:8080/"
        },
        "id": "GgQ9PTzzReL4",
        "outputId": "ff0b7bfe-c785-4e8a-90d2-6dd6e39fe932"
      },
      "outputs": [
        {
          "output_type": "stream",
          "name": "stdout",
          "text": [
            "-- ¡Qué coincidencia que viene por aquí!\n",
            "-- Vine a traerle este humilde obsequio\n",
            "-- ¿No quiere pasar a tomar una tacita de café?\n"
          ]
        }
      ],
      "source": [
        "def diálogo(evento, objeto=\"obsequio\", bebida=\"una tacita de café\"):\n",
        "    print(f\"-- ¡Qué {evento} que viene por aquí!\")\n",
        "    print(f\"-- Vine a traerle este humilde {objeto}\")\n",
        "    print(f\"-- ¿No quiere pasar a tomar {bebida}?\")\n",
        "\n",
        "diálogo(\"coincidencia\")"
      ]
    },
    {
      "cell_type": "code",
      "execution_count": 35,
      "metadata": {
        "colab": {
          "base_uri": "https://localhost:8080/"
        },
        "id": "5l6uQi_CReL4",
        "outputId": "77e8204b-f216-4beb-b0b3-9625dd19441d"
      },
      "outputs": [
        {
          "output_type": "stream",
          "name": "stdout",
          "text": [
            "-- ¡Qué coincidencia que viene por aquí!\n",
            "-- Vine a traerle este humilde obsequio\n",
            "-- ¿No quiere pasar a tomar una copita de ron?\n"
          ]
        }
      ],
      "source": [
        "diálogo(\"coincidencia\", bebida=\"una copita de ron\")"
      ]
    },
    {
      "cell_type": "markdown",
      "metadata": {
        "id": "zukFM4k7ReL4"
      },
      "source": [
        "## Ejemplo práctico\n",
        "\n"
      ]
    },
    {
      "cell_type": "code",
      "execution_count": 36,
      "metadata": {
        "colab": {
          "base_uri": "https://localhost:8080/"
        },
        "id": "OfTYZVT0ReL4",
        "outputId": "9fb18d28-b807-4a2c-c153-5d0526bc4326"
      },
      "outputs": [
        {
          "output_type": "execute_result",
          "data": {
            "text/plain": [
              "[0, 1, 4, 9, 16, 25, 36, 49, 64, 81, 100]"
            ]
          },
          "metadata": {},
          "execution_count": 36
        }
      ],
      "source": [
        "def cuadrados(n):\n",
        "    cua = []\n",
        "    for i in range(n):\n",
        "        if i**2 <= n:\n",
        "            cua.append(i**2)\n",
        "        else:\n",
        "            break\n",
        "    return cua\n",
        "\n",
        "cuadrados(100)"
      ]
    },
    {
      "cell_type": "code",
      "execution_count": 38,
      "metadata": {
        "colab": {
          "base_uri": "https://localhost:8080/"
        },
        "id": "QlUgrXf5ReL5",
        "outputId": "5ed077a1-3807-4180-cab9-63cc336749cf"
      },
      "outputs": [
        {
          "output_type": "execute_result",
          "data": {
            "text/plain": [
              "[9, 16, 25, 36, 49, 64, 81, 100]"
            ]
          },
          "metadata": {},
          "execution_count": 38
        }
      ],
      "source": [
        "def cuadrados(n, inferior=0):\n",
        "    cua = []\n",
        "    for i in range(n):\n",
        "        if inferior <= i**2 <= n:\n",
        "            cua.append(i**2)\n",
        "        elif i**2 > n:\n",
        "            break\n",
        "    return cua\n",
        "\n",
        "cuadrados(100, inferior=8)"
      ]
    },
    {
      "cell_type": "code",
      "execution_count": 43,
      "metadata": {
        "colab": {
          "base_uri": "https://localhost:8080/",
          "height": 35
        },
        "id": "i6wmX7v6ReL6",
        "outputId": "ea441dc4-f8a0-49dc-edd9-6a9e1dcfe6cb"
      },
      "outputs": [
        {
          "output_type": "execute_result",
          "data": {
            "text/plain": [
              "'Saludos, soy tu yo del futuro, ten cuidado de aqui en adelante Ivan'"
            ],
            "application/vnd.google.colaboratory.intrinsic+json": {
              "type": "string"
            }
          },
          "metadata": {},
          "execution_count": 43
        }
      ],
      "source": [
        "def saludador(saludo):\n",
        "    def tttttttttttt(persona):\n",
        "        return saludo + \" \" + persona\n",
        "    return tttttttttttt\n",
        "\n",
        "f = saludador(\"Saludos, soy tu yo del futuro, ten cuidado de aqui en adelante\")\n",
        "f(\"Ivan\")"
      ]
    },
    {
      "cell_type": "code",
      "execution_count": 40,
      "metadata": {
        "colab": {
          "base_uri": "https://localhost:8080/",
          "height": 35
        },
        "id": "YqU5d2paReL6",
        "outputId": "4d1b3283-48e4-49ed-a15e-0e191f21a128"
      },
      "outputs": [
        {
          "output_type": "execute_result",
          "data": {
            "text/plain": [
              "'Que tal Yessica'"
            ],
            "application/vnd.google.colaboratory.intrinsic+json": {
              "type": "string"
            }
          },
          "metadata": {},
          "execution_count": 40
        }
      ],
      "source": [
        "g = saludador(\"Que tal\")\n",
        "g(\"Yessica\")"
      ]
    },
    {
      "cell_type": "markdown",
      "metadata": {
        "id": "FBR6eWdXReL6"
      },
      "source": [
        "## Tarea\n",
        "\n"
      ]
    },
    {
      "cell_type": "markdown",
      "metadata": {
        "id": "r3EGMbzHReL6"
      },
      "source": [
        "Escribir una función que tenga un argumento obligatorio $n$ y un argumento opcional $pot$, y que regrese los números de fibonacci menores que $n$ que sean una potencia $pot$ exacta.\n",
        "\n"
      ]
    },
    {
      "cell_type": "markdown",
      "source": [
        "La tarea esta hecha y es la siguiente:"
      ],
      "metadata": {
        "id": "qEttWfQsdUeH"
      }
    },
    {
      "cell_type": "code",
      "source": [
        "from sympy import *\n",
        "\n",
        "def es_potencia(n,pot):\n",
        "    return int(sqrt(n)) ** pot == n\n",
        "\n",
        "def cuadrados_fibonacci(n,pot):\n",
        "    fibs = []\n",
        "    a, b = 0, 1\n",
        "    while a < n:\n",
        "        if es_potencia(a,pot):\n",
        "            fibs.append(a)\n",
        "        a, b = b, a+b\n",
        "    return fibs\n",
        "\n",
        "cuadrados_fibonacci(1000000000, pi/2)"
      ],
      "metadata": {
        "colab": {
          "base_uri": "https://localhost:8080/"
        },
        "id": "NutnuSeHal9q",
        "outputId": "dc4f206d-6e73-4dab-c779-e0a8b1ddd9f5"
      },
      "execution_count": 68,
      "outputs": [
        {
          "output_type": "execute_result",
          "data": {
            "text/plain": [
              "[0, 1, 1]"
            ]
          },
          "metadata": {},
          "execution_count": 68
        }
      ]
    },
    {
      "cell_type": "markdown",
      "metadata": {
        "id": "jgbh6VpFReL6"
      },
      "source": [
        "## Documentación de las funciones y funciones anónimas\n",
        "\n"
      ]
    },
    {
      "cell_type": "code",
      "execution_count": null,
      "metadata": {
        "id": "vd2U-WHjReL7"
      },
      "outputs": [],
      "source": [
        "def saludador(saludo=\"Hola\"):\n",
        "    \"\"\"Una función que regresa funciones saludadoras.\"\"\"\n",
        "    return lambda persona: saludo + \" \" + persona\n",
        "\n",
        "help(saludador)"
      ]
    },
    {
      "cell_type": "code",
      "execution_count": null,
      "metadata": {
        "id": "6qsDObJKReL7"
      },
      "outputs": [],
      "source": [
        "g = saludador(\"Que tal\")\n",
        "g(\"Karen\")"
      ]
    },
    {
      "cell_type": "code",
      "execution_count": null,
      "metadata": {
        "id": "rhwE744NReL7"
      },
      "outputs": [],
      "source": [
        "fun = lambda x: x**2\n",
        "\n",
        "fun(4)"
      ]
    },
    {
      "cell_type": "markdown",
      "metadata": {
        "id": "UhkQdFpIReL7"
      },
      "source": [
        "## Copia superficial\n",
        "\n"
      ]
    },
    {
      "cell_type": "markdown",
      "metadata": {
        "id": "iajhwonYReL7"
      },
      "source": [
        "En inglés se llama *shallow copy*.\n",
        "\n"
      ]
    },
    {
      "cell_type": "code",
      "execution_count": null,
      "metadata": {
        "id": "_11G4ESyReL8"
      },
      "outputs": [],
      "source": [
        "estudiantes"
      ]
    },
    {
      "cell_type": "code",
      "execution_count": null,
      "metadata": {
        "id": "5ZXBFc6aReL8"
      },
      "outputs": [],
      "source": [
        "alumnos = estudiantes\n",
        "alumnos.append(\"Nuevo\")\n",
        "alumnos"
      ]
    },
    {
      "cell_type": "code",
      "execution_count": null,
      "metadata": {
        "id": "PGjxMY8SReL8"
      },
      "outputs": [],
      "source": [
        "estudiantes"
      ]
    },
    {
      "cell_type": "code",
      "execution_count": null,
      "metadata": {
        "id": "Blbv_1aJReL8"
      },
      "outputs": [],
      "source": [
        "a = 1\n",
        "b = a\n",
        "b = b+1\n",
        "b"
      ]
    },
    {
      "cell_type": "code",
      "execution_count": null,
      "metadata": {
        "id": "N_WtVYC1ReL8"
      },
      "outputs": [],
      "source": [
        "a"
      ]
    },
    {
      "cell_type": "markdown",
      "metadata": {
        "id": "l927UJAJReL8"
      },
      "source": [
        "### Más métodos del tipo lista\n",
        "\n"
      ]
    },
    {
      "cell_type": "code",
      "execution_count": null,
      "metadata": {
        "id": "7X1f91GkReL8"
      },
      "outputs": [],
      "source": [
        "alumnos.pop()"
      ]
    },
    {
      "cell_type": "code",
      "execution_count": null,
      "metadata": {
        "id": "WE_3amiHReL8"
      },
      "outputs": [],
      "source": [
        "alumnos"
      ]
    },
    {
      "cell_type": "code",
      "execution_count": null,
      "metadata": {
        "id": "lOcmIjC2ReL9"
      },
      "outputs": [],
      "source": [
        "estudiantes"
      ]
    },
    {
      "cell_type": "code",
      "execution_count": null,
      "metadata": {
        "id": "mtk6PYU_ReL9"
      },
      "outputs": [],
      "source": [
        "alumnos2 = estudiantes.copy()\n",
        "alumnos2"
      ]
    },
    {
      "cell_type": "code",
      "execution_count": null,
      "metadata": {
        "id": "yAjjnu32ReL9"
      },
      "outputs": [],
      "source": [
        "alumnos2.append(\"Nuevo\")\n",
        "alumnos2"
      ]
    },
    {
      "cell_type": "code",
      "execution_count": null,
      "metadata": {
        "id": "V55apTpZReL9"
      },
      "outputs": [],
      "source": [
        "estudiantes"
      ]
    }
  ],
  "metadata": {
    "kernelspec": {
      "display_name": "Python 3",
      "language": "python",
      "name": "python3"
    },
    "language_info": {
      "codemirror_mode": {
        "name": "ipython",
        "version": 3
      },
      "file_extension": ".py",
      "mimetype": "text/x-python",
      "name": "python",
      "nbconvert_exporter": "python",
      "pygments_lexer": "ipython3",
      "version": "3.9.2"
    },
    "org": null,
    "colab": {
      "provenance": [],
      "include_colab_link": true
    }
  },
  "nbformat": 4,
  "nbformat_minor": 0
}