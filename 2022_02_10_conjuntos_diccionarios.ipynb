{
  "cells": [
    {
      "cell_type": "markdown",
      "metadata": {
        "id": "view-in-github",
        "colab_type": "text"
      },
      "source": [
        "<a href=\"https://colab.research.google.com/github/ivan-math/python-curso/blob/main/2022_02_10_conjuntos_diccionarios.ipynb\" target=\"_parent\"><img src=\"https://colab.research.google.com/assets/colab-badge.svg\" alt=\"Open In Colab\"/></a>"
      ]
    },
    {
      "cell_type": "markdown",
      "metadata": {
        "id": "hbhGNoLz-vku"
      },
      "source": [
        "Conjuntos y diccionarios\n",
        "========================\n",
        "\n",
        "**Date:** <2022-02-10 Thu>\n",
        "\n"
      ]
    },
    {
      "cell_type": "markdown",
      "metadata": {
        "id": "6nkhYHtO-vk2"
      },
      "source": [
        "## Conjuntos\n",
        "\n"
      ]
    },
    {
      "cell_type": "markdown",
      "metadata": {
        "id": "_yy7Xd39-vk3"
      },
      "source": [
        "Un conjunto es una estructura de datos parecida a la lista (en el sentido de que es una colección de objetos), pero en donde no importa el orden y no puede haber elementos repetidos.\n",
        "\n"
      ]
    },
    {
      "cell_type": "code",
      "execution_count": 1,
      "metadata": {
        "colab": {
          "base_uri": "https://localhost:8080/"
        },
        "id": "rnNC5JdT-vk4",
        "outputId": "c3bfeb71-b6d8-486b-dac3-90905471a897"
      },
      "outputs": [
        {
          "output_type": "execute_result",
          "data": {
            "text/plain": [
              "{3, 5, 6, 12}"
            ]
          },
          "metadata": {},
          "execution_count": 1
        }
      ],
      "source": [
        "conjunto = {3, 5, 6, 12, 3}\n",
        "conjunto"
      ]
    },
    {
      "cell_type": "code",
      "execution_count": 2,
      "metadata": {
        "colab": {
          "base_uri": "https://localhost:8080/"
        },
        "id": "5BL62Hcf-vk7",
        "outputId": "a051e6da-ed18-4b6e-833a-6dc899b476f4"
      },
      "outputs": [
        {
          "output_type": "execute_result",
          "data": {
            "text/plain": [
              "{4, 4.111, 'Hola'}"
            ]
          },
          "metadata": {},
          "execution_count": 2
        }
      ],
      "source": [
        "conjunto2 = {\"Hola\", 4, 4.111}\n",
        "conjunto2"
      ]
    },
    {
      "cell_type": "code",
      "execution_count": 3,
      "metadata": {
        "colab": {
          "base_uri": "https://localhost:8080/"
        },
        "id": "qU0s-uzf-vk8",
        "outputId": "07e7c320-9726-4850-f564-ae0e1c528a37"
      },
      "outputs": [
        {
          "output_type": "execute_result",
          "data": {
            "text/plain": [
              "(False, True)"
            ]
          },
          "metadata": {},
          "execution_count": 3
        }
      ],
      "source": [
        "4 in conjunto, 4 in conjunto2"
      ]
    },
    {
      "cell_type": "markdown",
      "metadata": {
        "id": "bosabCGX-vk9"
      },
      "source": [
        "Los conjuntos tienen un método que se llama `union`. Sin embargo el método `union` a diferencia del método `append` de las listas, no cambia el objeto al que se le aplica, si no que se comporta como una función. La palabra oficial es que `append` se manifiesta *in place*.\n",
        "\n"
      ]
    },
    {
      "cell_type": "code",
      "execution_count": 4,
      "metadata": {
        "colab": {
          "base_uri": "https://localhost:8080/"
        },
        "id": "Vcmw5Lzr-vk-",
        "outputId": "1d529101-3f67-4faa-abdd-78018efeb0e6"
      },
      "outputs": [
        {
          "output_type": "execute_result",
          "data": {
            "text/plain": [
              "{12, 3, 4, 4.111, 5, 6, 'Hola'}"
            ]
          },
          "metadata": {},
          "execution_count": 4
        }
      ],
      "source": [
        "conjunto3 = conjunto.union(conjunto2)\n",
        "conjunto3"
      ]
    },
    {
      "cell_type": "code",
      "execution_count": 6,
      "metadata": {
        "colab": {
          "base_uri": "https://localhost:8080/"
        },
        "id": "VTlkYigI-vk_",
        "outputId": "384d20d1-94f5-4465-e56d-0130784b6c5e"
      },
      "outputs": [
        {
          "output_type": "execute_result",
          "data": {
            "text/plain": [
              "{3, 4, 'Hola'}"
            ]
          },
          "metadata": {},
          "execution_count": 6
        }
      ],
      "source": [
        "conjunto4 = conjunto3.intersection({1,2,3,4,'Hola'})\n",
        "conjunto4"
      ]
    },
    {
      "cell_type": "markdown",
      "metadata": {
        "id": "9nfh-5-g-vk_"
      },
      "source": [
        "Una lista se puede convertir en un conjunto por medio de la función `set`. Un conjunto se puede convertir en una lista por medio de la función `list`.\n",
        "\n"
      ]
    },
    {
      "cell_type": "code",
      "execution_count": 7,
      "metadata": {
        "colab": {
          "base_uri": "https://localhost:8080/"
        },
        "id": "_T_DnF0y-vlB",
        "outputId": "8cdf2fd9-e77c-4b3d-a7a4-5b4d7e671503"
      },
      "outputs": [
        {
          "output_type": "execute_result",
          "data": {
            "text/plain": [
              "['Juan Diego', 'Verania', 'Rosa', 'Yessica', 'Karen', 'Uriel', 'Ruth']"
            ]
          },
          "metadata": {},
          "execution_count": 7
        }
      ],
      "source": [
        "inscritos = [\"Juan Diego\", \"Verania\", \"Rosa\", \"Yessica\", \"Karen\"]\n",
        "oyentes = [\"Uriel\", \"Ruth\"]\n",
        "estudiantes = inscritos + oyentes\n",
        "estudiantes"
      ]
    },
    {
      "cell_type": "code",
      "execution_count": 8,
      "metadata": {
        "colab": {
          "base_uri": "https://localhost:8080/"
        },
        "id": "DwSgtz0Z-vlB",
        "outputId": "2ef2b0c6-2cd2-46c9-a3d4-fa8de8c70136"
      },
      "outputs": [
        {
          "output_type": "execute_result",
          "data": {
            "text/plain": [
              "{'Juan Diego', 'Karen', 'Rosa', 'Ruth', 'Uriel', 'Verania', 'Yessica'}"
            ]
          },
          "metadata": {},
          "execution_count": 8
        }
      ],
      "source": [
        "est_conjunto = set(estudiantes)\n",
        "est_conjunto"
      ]
    },
    {
      "cell_type": "code",
      "execution_count": 9,
      "metadata": {
        "colab": {
          "base_uri": "https://localhost:8080/"
        },
        "id": "VYGNKkJB-vlC",
        "outputId": "0e16c898-e1a1-46ac-e076-e9be026bedc5"
      },
      "outputs": [
        {
          "output_type": "execute_result",
          "data": {
            "text/plain": [
              "['Ruth', 'Yessica', 'Uriel', 'Verania', 'Karen', 'Juan Diego', 'Rosa']"
            ]
          },
          "metadata": {},
          "execution_count": 9
        }
      ],
      "source": [
        "lista_est = list(est_conjunto)\n",
        "lista_est"
      ]
    },
    {
      "cell_type": "markdown",
      "metadata": {
        "id": "IyMzh994-vlD"
      },
      "source": [
        "## Diccionarios\n",
        "\n"
      ]
    },
    {
      "cell_type": "markdown",
      "metadata": {
        "id": "N4JLLiOL-vlD"
      },
      "source": [
        "Supongamos que voy a guardar las calificaciones de las estudiantes. Karen, Rosa, Verania, Yessica. Podríamos incluirlas en una lista, pero entonces debemos recordar el orden.\n",
        "\n"
      ]
    },
    {
      "cell_type": "code",
      "execution_count": 10,
      "metadata": {
        "id": "PKVMnEiR-vlE"
      },
      "outputs": [],
      "source": [
        "calificaciones = [9, 8.9, 7, 8]"
      ]
    },
    {
      "cell_type": "markdown",
      "metadata": {
        "id": "drCjFaCc-vlF"
      },
      "source": [
        "Un diccionario es una estructura de datos más apropiada.\n",
        "\n"
      ]
    },
    {
      "cell_type": "code",
      "execution_count": 11,
      "metadata": {
        "colab": {
          "base_uri": "https://localhost:8080/"
        },
        "id": "z52Ef7st-vlG",
        "outputId": "bde88027-c972-41c7-95f0-dfa523831193"
      },
      "outputs": [
        {
          "output_type": "execute_result",
          "data": {
            "text/plain": [
              "{'Karen': 8, 'Rosa': 8.9, 'Verania': 7, 'Yessica': 8}"
            ]
          },
          "metadata": {},
          "execution_count": 11
        }
      ],
      "source": [
        "calificaciones = {\"Karen\":8, \"Rosa\":8.9, \"Verania\":7, \"Yessica\": 8}\n",
        "calificaciones"
      ]
    },
    {
      "cell_type": "code",
      "execution_count": 12,
      "metadata": {
        "colab": {
          "base_uri": "https://localhost:8080/"
        },
        "id": "1xzynKed-vlG",
        "outputId": "f36f355e-15ac-41f5-ef36-be2d6d466933"
      },
      "outputs": [
        {
          "output_type": "execute_result",
          "data": {
            "text/plain": [
              "7"
            ]
          },
          "metadata": {},
          "execution_count": 12
        }
      ],
      "source": [
        "calificaciones[\"Verania\"]"
      ]
    },
    {
      "cell_type": "markdown",
      "metadata": {
        "id": "CiutSZip-vlH"
      },
      "source": [
        "Nuevas entradas se pueden asignar:\n",
        "\n"
      ]
    },
    {
      "cell_type": "code",
      "execution_count": 13,
      "metadata": {
        "colab": {
          "base_uri": "https://localhost:8080/"
        },
        "id": "3BhtXM_V-vlH",
        "outputId": "4969e108-0ffb-4c64-ce47-f2930f82dfb9"
      },
      "outputs": [
        {
          "output_type": "execute_result",
          "data": {
            "text/plain": [
              "{'Karen': 8, 'Rosa': 8.9, 'Verania': 7, 'Yessica': 8, 'Juan Diego': 10}"
            ]
          },
          "metadata": {},
          "execution_count": 13
        }
      ],
      "source": [
        "calificaciones[\"Juan Diego\"] = 10\n",
        "calificaciones"
      ]
    },
    {
      "cell_type": "code",
      "execution_count": 16,
      "metadata": {
        "colab": {
          "base_uri": "https://localhost:8080/"
        },
        "id": "I3RDm0Zw-vlI",
        "outputId": "e82ada6d-57ab-47b1-cf18-27f2dedd35f6"
      },
      "outputs": [
        {
          "output_type": "execute_result",
          "data": {
            "text/plain": [
              "(['Karen', 'Rosa', 'Verania', 'Yessica', 'Juan Diego'],\n",
              " dict_keys(['Karen', 'Rosa', 'Verania', 'Yessica', 'Juan Diego']))"
            ]
          },
          "metadata": {},
          "execution_count": 16
        }
      ],
      "source": [
        "llaves = calificaciones.keys()\n",
        "lista_llaves = list(llaves)\n",
        "lista_llaves, llaves"
      ]
    },
    {
      "cell_type": "code",
      "execution_count": 15,
      "metadata": {
        "colab": {
          "base_uri": "https://localhost:8080/"
        },
        "id": "cSz7Ih_X-vlK",
        "outputId": "f104ff6e-43e4-4076-c1f8-78fe78dd6165"
      },
      "outputs": [
        {
          "output_type": "execute_result",
          "data": {
            "text/plain": [
              "dict_values([8, 8.9, 7, 8, 10])"
            ]
          },
          "metadata": {},
          "execution_count": 15
        }
      ],
      "source": [
        "valores = calificaciones.values()\n",
        "valores"
      ]
    }
  ],
  "metadata": {
    "kernelspec": {
      "display_name": "Python 3",
      "language": "python",
      "name": "python3"
    },
    "language_info": {
      "codemirror_mode": {
        "name": "ipython",
        "version": 3
      },
      "file_extension": ".py",
      "mimetype": "text/x-python",
      "name": "python",
      "nbconvert_exporter": "python",
      "pygments_lexer": "ipython3",
      "version": "3.9.2"
    },
    "org": null,
    "colab": {
      "provenance": [],
      "include_colab_link": true
    }
  },
  "nbformat": 4,
  "nbformat_minor": 0
}